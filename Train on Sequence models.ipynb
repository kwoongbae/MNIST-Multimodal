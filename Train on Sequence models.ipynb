{
 "cells": [
  {
   "cell_type": "code",
   "execution_count": 1,
   "id": "c57ab98e",
   "metadata": {},
   "outputs": [],
   "source": [
    "import os\n",
    "os.environ[\"CUDA_VISIBLE_DEVICES\"] = \"0\""
   ]
  },
  {
   "cell_type": "code",
   "execution_count": 2,
   "id": "326a136d",
   "metadata": {},
   "outputs": [],
   "source": [
    "# 필요한 라이브러리들 불러오기\n",
    "import tensorflow as tf\n",
    "from tensorflow import keras\n",
    "from keras.models import Model\n",
    "from keras import layers\n",
    "from keras import Input\n",
    "import numpy as np\n",
    "import pickle\n",
    "import pandas as pd\n",
    "import random\n",
    "from tqdm import tqdm\n",
    "from time import sleep\n",
    "\n",
    "tf.random.set_seed(7)"
   ]
  },
  {
   "cell_type": "code",
   "execution_count": 3,
   "id": "2fc4fadb",
   "metadata": {},
   "outputs": [
    {
     "name": "stdout",
     "output_type": "stream",
     "text": [
      "(60000, 472)\n",
      "(10000, 472)\n"
     ]
    }
   ],
   "source": [
    "x_sequence_train_tf = np.load('../x_sequence_train_noise_ver3.npy')\n",
    "x_sequence_test_tf = np.load('../x_sequence_test_noise_ver3.npy')\n",
    "\n",
    "print(x_sequence_train_tf.shape)\n",
    "print(x_sequence_test_tf.shape)"
   ]
  },
  {
   "cell_type": "code",
   "execution_count": 4,
   "id": "dd3f2d35",
   "metadata": {},
   "outputs": [],
   "source": [
    "# 정답지 생성\n",
    "train_label_textfile = pd.read_csv('../trainlabels.txt',index_col=False)\n",
    "train_label = np.array(train_label_textfile)\n",
    "\n",
    "test_label_textfile = pd.read_csv('../testlabels.txt',index_col=False)\n",
    "test_label = np.array(test_label_textfile)\n",
    "\n",
    "y_train = tf.keras.utils.to_categorical(train_label, num_classes=10)\n",
    "y_test = tf.keras.utils.to_categorical(test_label, num_classes=10)"
   ]
  },
  {
   "cell_type": "code",
   "execution_count": 5,
   "id": "eac686c0",
   "metadata": {},
   "outputs": [],
   "source": [
    "# 그래프 그려주는 함수\n",
    "from matplotlib import pyplot as plt\n",
    "\n",
    "def graph(history):\n",
    "    acc = history.history['acc']\n",
    "    val_acc = history.history['val_acc']\n",
    "    loss = history.history['loss']\n",
    "    val_loss = history.history['val_loss']\n",
    "    \n",
    "    epochs = range(1,len(acc)+1)\n",
    "    \n",
    "    plt.plot(epochs, acc, 'r',label = 'Training acc')\n",
    "    plt.plot(epochs, val_acc, 'b',label = 'Validation acc')\n",
    "    plt.title('Training and validation accuracy')\n",
    "    \n",
    "    plt.legend(loc='lower right')\n",
    "    plt.show()"
   ]
  },
  {
   "cell_type": "markdown",
   "id": "03251dd6",
   "metadata": {},
   "source": [
    "## 2.1 LSTM 128"
   ]
  },
  {
   "cell_type": "code",
   "execution_count": 6,
   "id": "eefd1096",
   "metadata": {},
   "outputs": [
    {
     "name": "stderr",
     "output_type": "stream",
     "text": [
      "2022-05-04 21:25:39.742588: I tensorflow/core/platform/cpu_feature_guard.cc:142] This TensorFlow binary is optimized with oneAPI Deep Neural Network Library (oneDNN) to use the following CPU instructions in performance-critical operations:  AVX2 AVX512F FMA\n",
      "To enable them in other operations, rebuild TensorFlow with the appropriate compiler flags.\n",
      "2022-05-04 21:25:40.114787: I tensorflow/core/common_runtime/gpu/gpu_device.cc:1510] Created device /job:localhost/replica:0/task:0/device:GPU:0 with 22360 MB memory:  -> device: 0, name: NVIDIA RTX A5000, pci bus id: 0000:17:00.0, compute capability: 8.6\n"
     ]
    }
   ],
   "source": [
    "sequence_input_lstm = Input(shape = (118*4), dtype = 'int32', name = 'sequence_mnist_lstm')\n",
    "y = layers.Embedding(512,128, mask_zero = True)(sequence_input_lstm)\n",
    "y = layers.LSTM(128)(y)\n",
    "# 32 대신에 다른 숫자도 넣어보도록 함.\n",
    "\n",
    "sequence_output = layers.Dropout(0.5)(y)\n",
    "answer = layers.Dense(10, activation = 'softmax')(sequence_output)"
   ]
  },
  {
   "cell_type": "code",
   "execution_count": 7,
   "id": "318125a9",
   "metadata": {},
   "outputs": [],
   "source": [
    "model_2_1 = Model([sequence_input_lstm], answer)\n",
    "model_2_1.compile(optimizer = 'Adam', loss = 'categorical_crossentropy', metrics = ['acc'])"
   ]
  },
  {
   "cell_type": "code",
   "execution_count": 8,
   "id": "00ef9887",
   "metadata": {},
   "outputs": [
    {
     "name": "stdout",
     "output_type": "stream",
     "text": [
      "Model: \"model\"\n",
      "_________________________________________________________________\n",
      "Layer (type)                 Output Shape              Param #   \n",
      "=================================================================\n",
      "sequence_mnist_lstm (InputLa [(None, 472)]             0         \n",
      "_________________________________________________________________\n",
      "embedding (Embedding)        (None, 472, 128)          65536     \n",
      "_________________________________________________________________\n",
      "lstm (LSTM)                  (None, 128)               131584    \n",
      "_________________________________________________________________\n",
      "dropout (Dropout)            (None, 128)               0         \n",
      "_________________________________________________________________\n",
      "dense (Dense)                (None, 10)                1290      \n",
      "=================================================================\n",
      "Total params: 198,410\n",
      "Trainable params: 198,410\n",
      "Non-trainable params: 0\n",
      "_________________________________________________________________\n"
     ]
    }
   ],
   "source": [
    "model_2_1.summary()"
   ]
  },
  {
   "cell_type": "code",
   "execution_count": 9,
   "id": "1a43da97",
   "metadata": {},
   "outputs": [
    {
     "name": "stderr",
     "output_type": "stream",
     "text": [
      "2022-05-04 21:25:41.023516: I tensorflow/compiler/mlir/mlir_graph_optimization_pass.cc:185] None of the MLIR Optimization Passes are enabled (registered 2)\n"
     ]
    },
    {
     "name": "stdout",
     "output_type": "stream",
     "text": [
      "Epoch 1/100\n"
     ]
    },
    {
     "name": "stderr",
     "output_type": "stream",
     "text": [
      "2022-05-04 21:25:43.348443: I tensorflow/stream_executor/cuda/cuda_blas.cc:1760] TensorFloat-32 will be used for the matrix multiplication. This will only be logged once.\n"
     ]
    },
    {
     "name": "stdout",
     "output_type": "stream",
     "text": [
      "375/375 [==============================] - 134s 351ms/step - loss: 1.6899 - acc: 0.3869 - val_loss: 1.5143 - val_acc: 0.4672\n",
      "Epoch 2/100\n",
      "375/375 [==============================] - 131s 349ms/step - loss: 1.3430 - acc: 0.5355 - val_loss: 1.1887 - val_acc: 0.5953\n",
      "Epoch 3/100\n",
      "375/375 [==============================] - 131s 350ms/step - loss: 1.2055 - acc: 0.5961 - val_loss: 1.0683 - val_acc: 0.6355\n",
      "Epoch 4/100\n",
      "375/375 [==============================] - 131s 349ms/step - loss: 1.0978 - acc: 0.6358 - val_loss: 0.9993 - val_acc: 0.6599\n",
      "Epoch 5/100\n",
      "375/375 [==============================] - 130s 348ms/step - loss: 1.0273 - acc: 0.6621 - val_loss: 0.9716 - val_acc: 0.6731\n",
      "Epoch 6/100\n",
      "375/375 [==============================] - 131s 348ms/step - loss: 0.9797 - acc: 0.6796 - val_loss: 0.9311 - val_acc: 0.6892\n",
      "Epoch 7/100\n",
      "375/375 [==============================] - 131s 349ms/step - loss: 0.9452 - acc: 0.6905 - val_loss: 0.8899 - val_acc: 0.6996\n",
      "Epoch 8/100\n",
      "375/375 [==============================] - 131s 349ms/step - loss: 0.9292 - acc: 0.6938 - val_loss: 0.9026 - val_acc: 0.6933\n",
      "Epoch 9/100\n",
      "375/375 [==============================] - 131s 349ms/step - loss: 0.9058 - acc: 0.7019 - val_loss: 0.8672 - val_acc: 0.7077\n",
      "Epoch 10/100\n",
      "375/375 [==============================] - 131s 350ms/step - loss: 0.8940 - acc: 0.7064 - val_loss: 0.8567 - val_acc: 0.7108\n",
      "Epoch 11/100\n",
      "375/375 [==============================] - 132s 352ms/step - loss: 0.8781 - acc: 0.7122 - val_loss: 0.8489 - val_acc: 0.7127\n",
      "Epoch 12/100\n",
      "375/375 [==============================] - 132s 353ms/step - loss: 0.8697 - acc: 0.7137 - val_loss: 0.8408 - val_acc: 0.7182\n",
      "Epoch 13/100\n",
      "375/375 [==============================] - 132s 352ms/step - loss: 0.8548 - acc: 0.7191 - val_loss: 0.8386 - val_acc: 0.7210\n",
      "Epoch 14/100\n",
      "375/375 [==============================] - 132s 352ms/step - loss: 0.8492 - acc: 0.7198 - val_loss: 0.8260 - val_acc: 0.7219\n",
      "Epoch 15/100\n",
      "375/375 [==============================] - 132s 352ms/step - loss: 0.8369 - acc: 0.7249 - val_loss: 0.8208 - val_acc: 0.7260\n",
      "Epoch 16/100\n",
      "375/375 [==============================] - 132s 352ms/step - loss: 0.8288 - acc: 0.7266 - val_loss: 0.8236 - val_acc: 0.7232\n",
      "Epoch 17/100\n",
      "375/375 [==============================] - 132s 353ms/step - loss: 0.8190 - acc: 0.7304 - val_loss: 0.8205 - val_acc: 0.7262\n",
      "Epoch 18/100\n",
      "375/375 [==============================] - 132s 352ms/step - loss: 0.8100 - acc: 0.7343 - val_loss: 0.8042 - val_acc: 0.7295\n",
      "Epoch 19/100\n",
      "375/375 [==============================] - 132s 351ms/step - loss: 0.8039 - acc: 0.7351 - val_loss: 0.7959 - val_acc: 0.7318\n",
      "Epoch 20/100\n",
      "375/375 [==============================] - 132s 352ms/step - loss: 0.7963 - acc: 0.7382 - val_loss: 0.8045 - val_acc: 0.7305\n",
      "Epoch 21/100\n",
      "375/375 [==============================] - 132s 353ms/step - loss: 0.7864 - acc: 0.7416 - val_loss: 0.7997 - val_acc: 0.7327\n",
      "Epoch 22/100\n",
      "375/375 [==============================] - 132s 353ms/step - loss: 0.7824 - acc: 0.7425 - val_loss: 0.8072 - val_acc: 0.7294\n",
      "Epoch 23/100\n",
      "375/375 [==============================] - 132s 352ms/step - loss: 0.7794 - acc: 0.7424 - val_loss: 0.7999 - val_acc: 0.7343\n",
      "Epoch 24/100\n",
      "375/375 [==============================] - 132s 353ms/step - loss: 0.7663 - acc: 0.7456 - val_loss: 0.8161 - val_acc: 0.7293\n",
      "Epoch 25/100\n",
      "375/375 [==============================] - 132s 353ms/step - loss: 0.7641 - acc: 0.7483 - val_loss: 0.8061 - val_acc: 0.7314\n",
      "Epoch 26/100\n",
      "375/375 [==============================] - 132s 352ms/step - loss: 0.7581 - acc: 0.7490 - val_loss: 0.8033 - val_acc: 0.7345\n",
      "Epoch 27/100\n",
      "375/375 [==============================] - 132s 352ms/step - loss: 0.7470 - acc: 0.7538 - val_loss: 0.8080 - val_acc: 0.7317\n",
      "Epoch 28/100\n",
      "375/375 [==============================] - 132s 353ms/step - loss: 0.7391 - acc: 0.7554 - val_loss: 0.8070 - val_acc: 0.7333\n",
      "Epoch 29/100\n",
      "375/375 [==============================] - 132s 353ms/step - loss: 0.7372 - acc: 0.7571 - val_loss: 0.8041 - val_acc: 0.7310\n",
      "Epoch 30/100\n",
      "375/375 [==============================] - 132s 352ms/step - loss: 0.7285 - acc: 0.7600 - val_loss: 0.8116 - val_acc: 0.7336\n",
      "Epoch 31/100\n",
      "375/375 [==============================] - 132s 353ms/step - loss: 0.7271 - acc: 0.7603 - val_loss: 0.8077 - val_acc: 0.7316\n",
      "Epoch 32/100\n",
      "375/375 [==============================] - 132s 352ms/step - loss: 0.7147 - acc: 0.7645 - val_loss: 0.8241 - val_acc: 0.7267\n",
      "Epoch 33/100\n",
      "375/375 [==============================] - 132s 352ms/step - loss: 0.7090 - acc: 0.7649 - val_loss: 0.8071 - val_acc: 0.7336\n",
      "Epoch 34/100\n",
      "375/375 [==============================] - 132s 352ms/step - loss: 0.7039 - acc: 0.7688 - val_loss: 0.8089 - val_acc: 0.7341\n",
      "Epoch 35/100\n",
      "375/375 [==============================] - 132s 352ms/step - loss: 0.6976 - acc: 0.7700 - val_loss: 0.8233 - val_acc: 0.7312\n",
      "Epoch 36/100\n",
      "375/375 [==============================] - 132s 352ms/step - loss: 0.6929 - acc: 0.7719 - val_loss: 0.8149 - val_acc: 0.7300\n",
      "Epoch 37/100\n",
      "375/375 [==============================] - 132s 353ms/step - loss: 0.6871 - acc: 0.7742 - val_loss: 0.8216 - val_acc: 0.7328\n",
      "Epoch 38/100\n",
      "375/375 [==============================] - 132s 352ms/step - loss: 0.6775 - acc: 0.7776 - val_loss: 0.8336 - val_acc: 0.7295\n",
      "Epoch 39/100\n",
      "375/375 [==============================] - 132s 352ms/step - loss: 0.6722 - acc: 0.7788 - val_loss: 0.8364 - val_acc: 0.7290\n",
      "Epoch 40/100\n",
      "375/375 [==============================] - 132s 351ms/step - loss: 0.6645 - acc: 0.7810 - val_loss: 0.8333 - val_acc: 0.7314\n",
      "Epoch 41/100\n",
      "375/375 [==============================] - 132s 352ms/step - loss: 0.6632 - acc: 0.7809 - val_loss: 0.8548 - val_acc: 0.7262\n",
      "Epoch 42/100\n",
      "375/375 [==============================] - 132s 352ms/step - loss: 0.6569 - acc: 0.7837 - val_loss: 0.8456 - val_acc: 0.7302\n",
      "Epoch 43/100\n",
      "375/375 [==============================] - 132s 353ms/step - loss: 0.6512 - acc: 0.7847 - val_loss: 0.8493 - val_acc: 0.7279\n",
      "Epoch 44/100\n",
      "375/375 [==============================] - 132s 352ms/step - loss: 0.6436 - acc: 0.7891 - val_loss: 0.8697 - val_acc: 0.7229\n",
      "Epoch 45/100\n",
      "375/375 [==============================] - 132s 353ms/step - loss: 0.6359 - acc: 0.7905 - val_loss: 0.8601 - val_acc: 0.7279\n",
      "Epoch 46/100\n",
      "375/375 [==============================] - 132s 352ms/step - loss: 0.6312 - acc: 0.7922 - val_loss: 0.8563 - val_acc: 0.7232\n",
      "Epoch 47/100\n",
      "375/375 [==============================] - 132s 353ms/step - loss: 0.6237 - acc: 0.7961 - val_loss: 0.8795 - val_acc: 0.7183\n",
      "Epoch 48/100\n",
      "375/375 [==============================] - 132s 353ms/step - loss: 0.6255 - acc: 0.7938 - val_loss: 0.8731 - val_acc: 0.7240\n",
      "Epoch 49/100\n",
      "375/375 [==============================] - 132s 352ms/step - loss: 0.6149 - acc: 0.7975 - val_loss: 0.8785 - val_acc: 0.7237\n",
      "Epoch 50/100\n",
      "375/375 [==============================] - 132s 352ms/step - loss: 0.6075 - acc: 0.8001 - val_loss: 0.8885 - val_acc: 0.7223\n",
      "Epoch 51/100\n",
      "375/375 [==============================] - 132s 351ms/step - loss: 0.5976 - acc: 0.8025 - val_loss: 0.9025 - val_acc: 0.7205\n",
      "Epoch 52/100\n",
      "375/375 [==============================] - 132s 353ms/step - loss: 0.6035 - acc: 0.8011 - val_loss: 0.8845 - val_acc: 0.7293\n",
      "Epoch 53/100\n",
      "375/375 [==============================] - 132s 352ms/step - loss: 0.5922 - acc: 0.8055 - val_loss: 0.9037 - val_acc: 0.7214\n",
      "Epoch 54/100\n",
      "375/375 [==============================] - 132s 353ms/step - loss: 0.5761 - acc: 0.8112 - val_loss: 0.9108 - val_acc: 0.7182\n",
      "Epoch 55/100\n",
      "375/375 [==============================] - 132s 353ms/step - loss: 0.5829 - acc: 0.8100 - val_loss: 0.9250 - val_acc: 0.7131\n",
      "Epoch 56/100\n",
      "375/375 [==============================] - 132s 353ms/step - loss: 0.5744 - acc: 0.8116 - val_loss: 0.9329 - val_acc: 0.7172\n",
      "Epoch 57/100\n",
      "375/375 [==============================] - 132s 352ms/step - loss: 0.5644 - acc: 0.8149 - val_loss: 0.9278 - val_acc: 0.7183\n",
      "Epoch 58/100\n",
      "375/375 [==============================] - 132s 353ms/step - loss: 0.5699 - acc: 0.8134 - val_loss: 0.9467 - val_acc: 0.7151\n",
      "Epoch 59/100\n",
      "375/375 [==============================] - 133s 354ms/step - loss: 0.5700 - acc: 0.8129 - val_loss: 0.9443 - val_acc: 0.7175\n",
      "Epoch 60/100\n",
      "375/375 [==============================] - 132s 353ms/step - loss: 0.5572 - acc: 0.8160 - val_loss: 0.9411 - val_acc: 0.7178\n",
      "Epoch 61/100\n",
      "375/375 [==============================] - 132s 352ms/step - loss: 0.5445 - acc: 0.8218 - val_loss: 0.9514 - val_acc: 0.7183\n",
      "Epoch 62/100\n",
      "375/375 [==============================] - 132s 352ms/step - loss: 0.5492 - acc: 0.8206 - val_loss: 0.9528 - val_acc: 0.7157\n",
      "Epoch 63/100\n",
      "375/375 [==============================] - 132s 352ms/step - loss: 0.5377 - acc: 0.8252 - val_loss: 0.9663 - val_acc: 0.7151\n",
      "Epoch 64/100\n",
      "375/375 [==============================] - 132s 352ms/step - loss: 0.5283 - acc: 0.8281 - val_loss: 0.9680 - val_acc: 0.7156\n",
      "Epoch 65/100\n",
      "375/375 [==============================] - 132s 352ms/step - loss: 0.5218 - acc: 0.8284 - val_loss: 0.9825 - val_acc: 0.7167\n",
      "Epoch 66/100\n",
      "375/375 [==============================] - 132s 352ms/step - loss: 0.5235 - acc: 0.8289 - val_loss: 0.9971 - val_acc: 0.7149\n",
      "Epoch 67/100\n",
      "375/375 [==============================] - 132s 353ms/step - loss: 0.5179 - acc: 0.8304 - val_loss: 1.0033 - val_acc: 0.7143\n",
      "Epoch 68/100\n",
      "375/375 [==============================] - 133s 354ms/step - loss: 0.5044 - acc: 0.8360 - val_loss: 0.9948 - val_acc: 0.7163\n",
      "Epoch 69/100\n",
      "375/375 [==============================] - 132s 351ms/step - loss: 0.5009 - acc: 0.8370 - val_loss: 1.0108 - val_acc: 0.7081\n",
      "Epoch 70/100\n",
      "375/375 [==============================] - 132s 353ms/step - loss: 0.5027 - acc: 0.8370 - val_loss: 1.0136 - val_acc: 0.7140\n",
      "Epoch 71/100\n",
      "375/375 [==============================] - 132s 353ms/step - loss: 0.5176 - acc: 0.8316 - val_loss: 1.0272 - val_acc: 0.7140\n",
      "Epoch 72/100\n",
      "375/375 [==============================] - 133s 354ms/step - loss: 0.4999 - acc: 0.8377 - val_loss: 1.0164 - val_acc: 0.7099\n",
      "Epoch 73/100\n",
      "375/375 [==============================] - 132s 353ms/step - loss: 0.4944 - acc: 0.8385 - val_loss: 1.0266 - val_acc: 0.7134\n",
      "Epoch 74/100\n",
      "375/375 [==============================] - 132s 352ms/step - loss: 0.4900 - acc: 0.8407 - val_loss: 1.0273 - val_acc: 0.7113\n",
      "Epoch 75/100\n",
      "375/375 [==============================] - 132s 352ms/step - loss: 0.4797 - acc: 0.8439 - val_loss: 1.0471 - val_acc: 0.7122\n",
      "Epoch 76/100\n",
      "375/375 [==============================] - 132s 353ms/step - loss: 0.4760 - acc: 0.8454 - val_loss: 1.0538 - val_acc: 0.7117\n",
      "Epoch 77/100\n",
      "375/375 [==============================] - 133s 353ms/step - loss: 0.4833 - acc: 0.8413 - val_loss: 1.0534 - val_acc: 0.7092\n",
      "Epoch 78/100\n",
      "375/375 [==============================] - 132s 353ms/step - loss: 0.4828 - acc: 0.8419 - val_loss: 1.0630 - val_acc: 0.7101\n",
      "Epoch 79/100\n",
      "375/375 [==============================] - 132s 352ms/step - loss: 0.4691 - acc: 0.8490 - val_loss: 1.0481 - val_acc: 0.7075\n",
      "Epoch 80/100\n",
      "375/375 [==============================] - 132s 352ms/step - loss: 0.4626 - acc: 0.8506 - val_loss: 1.0574 - val_acc: 0.7098\n",
      "Epoch 81/100\n",
      "375/375 [==============================] - 132s 352ms/step - loss: 0.4516 - acc: 0.8531 - val_loss: 1.0750 - val_acc: 0.7095\n",
      "Epoch 82/100\n",
      "375/375 [==============================] - 132s 352ms/step - loss: 0.4635 - acc: 0.8485 - val_loss: 1.0874 - val_acc: 0.7074\n",
      "Epoch 83/100\n",
      "375/375 [==============================] - 132s 353ms/step - loss: 0.4563 - acc: 0.8527 - val_loss: 1.1006 - val_acc: 0.7029\n",
      "Epoch 84/100\n",
      "375/375 [==============================] - 132s 351ms/step - loss: 0.4465 - acc: 0.8552 - val_loss: 1.0905 - val_acc: 0.7067\n",
      "Epoch 85/100\n",
      "375/375 [==============================] - 132s 351ms/step - loss: 0.4444 - acc: 0.8569 - val_loss: 1.0944 - val_acc: 0.7049\n",
      "Epoch 86/100\n",
      "375/375 [==============================] - 132s 353ms/step - loss: 0.4409 - acc: 0.8557 - val_loss: 1.1277 - val_acc: 0.7002\n",
      "Epoch 87/100\n",
      "375/375 [==============================] - 132s 353ms/step - loss: 0.4385 - acc: 0.8584 - val_loss: 1.0993 - val_acc: 0.7046\n",
      "Epoch 88/100\n",
      "375/375 [==============================] - 132s 353ms/step - loss: 0.4359 - acc: 0.8597 - val_loss: 1.1641 - val_acc: 0.6982\n",
      "Epoch 89/100\n",
      "375/375 [==============================] - 132s 353ms/step - loss: 0.4319 - acc: 0.8610 - val_loss: 1.1284 - val_acc: 0.7040\n",
      "Epoch 90/100\n",
      "375/375 [==============================] - 132s 353ms/step - loss: 0.4279 - acc: 0.8622 - val_loss: 1.1396 - val_acc: 0.7063\n",
      "Epoch 91/100\n",
      "375/375 [==============================] - 133s 354ms/step - loss: 0.4323 - acc: 0.8600 - val_loss: 1.1505 - val_acc: 0.6998\n",
      "Epoch 92/100\n",
      "375/375 [==============================] - 132s 352ms/step - loss: 0.4169 - acc: 0.8653 - val_loss: 1.1264 - val_acc: 0.7040\n",
      "Epoch 93/100\n",
      "375/375 [==============================] - 132s 353ms/step - loss: 0.4223 - acc: 0.8633 - val_loss: 1.1548 - val_acc: 0.7016\n",
      "Epoch 94/100\n",
      "375/375 [==============================] - 132s 353ms/step - loss: 0.4218 - acc: 0.8656 - val_loss: 1.1311 - val_acc: 0.7060\n",
      "Epoch 95/100\n",
      "375/375 [==============================] - 132s 353ms/step - loss: 0.4158 - acc: 0.8647 - val_loss: 1.1842 - val_acc: 0.6997\n",
      "Epoch 96/100\n",
      "375/375 [==============================] - 132s 352ms/step - loss: 0.4554 - acc: 0.8530 - val_loss: 1.1318 - val_acc: 0.7024\n",
      "Epoch 97/100\n",
      "375/375 [==============================] - 132s 352ms/step - loss: 0.4102 - acc: 0.8688 - val_loss: 1.1718 - val_acc: 0.7011\n",
      "Epoch 98/100\n",
      "375/375 [==============================] - 132s 352ms/step - loss: 0.3969 - acc: 0.8724 - val_loss: 1.1901 - val_acc: 0.7003\n",
      "Epoch 99/100\n",
      "375/375 [==============================] - 132s 353ms/step - loss: 0.4082 - acc: 0.8687 - val_loss: 1.1754 - val_acc: 0.7026\n",
      "Epoch 100/100\n",
      "375/375 [==============================] - 132s 353ms/step - loss: 0.3955 - acc: 0.8732 - val_loss: 1.1946 - val_acc: 0.7010\n"
     ]
    }
   ],
   "source": [
    "history2_1 = model_2_1.fit([x_sequence_train_tf], y_train, epochs = 100, batch_size = 128, validation_split = 0.2)"
   ]
  },
  {
   "cell_type": "code",
   "execution_count": 10,
   "id": "da5114e8",
   "metadata": {},
   "outputs": [
    {
     "data": {
      "image/png": "[encoded data removed]",
      "text/plain": [
       "<Figure size 432x288 with 1 Axes>"
      ]
     },
     "metadata": {
      "needs_background": "light"
     },
     "output_type": "display_data"
    }
   ],
   "source": [
    "graph(history2_1)"
   ]
  },
  {
   "cell_type": "code",
   "execution_count": 11,
   "id": "31f6b368",
   "metadata": {},
   "outputs": [
    {
     "name": "stdout",
     "output_type": "stream",
     "text": [
      "313/313 - 21s - loss: 1.1683 - acc: 0.7050\n"
     ]
    },
    {
     "data": {
      "text/plain": [
       "[1.1682963371276855, 0.7049999833106995]"
      ]
     },
     "execution_count": 11,
     "metadata": {},
     "output_type": "execute_result"
    }
   ],
   "source": [
    "model_2_1_eval = model_2_1.evaluate([x_sequence_test_tf], y_test, verbose=2)\n",
    "model_2_1_eval"
   ]
  },
  {
   "cell_type": "markdown",
   "id": "21d5fc5c",
   "metadata": {},
   "source": [
    "## 2. BiLSTM"
   ]
  },
  {
   "cell_type": "code",
   "execution_count": 12,
   "id": "2547886a",
   "metadata": {},
   "outputs": [],
   "source": [
    "class BahdanauAttention(tf.keras.Model):\n",
    "  def __init__(self, units):\n",
    "    super(BahdanauAttention, self).__init__()\n",
    "    self.W1 = layers.Dense(units)\n",
    "    self.W2 = layers.Dense(units)\n",
    "    self.V = layers.Dense(1)\n",
    "\n",
    "  def call(self, values, query): # 단, key와 value는 같음\n",
    "    # query shape == (batch_size, hidden size)\n",
    "    # hidden_with_time_axis shape == (batch_size, 1, hidden size)\n",
    "    # score 계산을 위해 뒤에서 할 덧셈을 위해서 차원을 변경해줍니다.\n",
    "    hidden_with_time_axis = tf.expand_dims(query, 1)\n",
    "\n",
    "    # score shape == (batch_size, max_length, 1)\n",
    "    # we get 1 at the last axis because we are applying score to self.V\n",
    "    # the shape of the tensor before applying self.V is (batch_size, max_length, units)\n",
    "    score = self.V(tf.nn.tanh(\n",
    "        self.W1(values) + self.W2(hidden_with_time_axis)))\n",
    "\n",
    "    # attention_weights shape == (batch_size, max_length, 1)\n",
    "    attention_weights = tf.nn.softmax(score, axis=1)\n",
    "\n",
    "    # context_vector shape after sum == (batch_size, hidden_size)\n",
    "    context_vector = attention_weights * values\n",
    "    context_vector = tf.reduce_sum(context_vector, axis=1)\n",
    "\n",
    "    return context_vector, attention_weights"
   ]
  },
  {
   "cell_type": "code",
   "execution_count": 13,
   "id": "beb4b13c",
   "metadata": {},
   "outputs": [],
   "source": [
    "sequence_input_lstm = Input(shape = (118*4), dtype = 'int32', name = 'sequence_mnist_lstm')\n",
    "y = layers.Embedding(512,32)(sequence_input_lstm)\n",
    "lstm = layers.Bidirectional(layers.LSTM(32, dropout=0.5, return_sequences = True))(y)\n",
    "lstm, forward_h, forward_c, backward_h, backward_c = layers.Bidirectional(layers.LSTM(64, dropout=0.5, return_sequences=True, return_state=True))(lstm)\n",
    "\n",
    "state_h = layers.Concatenate()([forward_h, backward_h])\n",
    "state_c = layers.Concatenate()([forward_c, backward_c])\n",
    "\n",
    "attention = BahdanauAttention(64) # 가중치 크기 정의\n",
    "context_vector, attention_weights = attention(lstm, state_h)\n",
    "\n",
    "# 1. Dense\n",
    "# 2. BN\n",
    "# 3. Activation\n",
    "\n",
    "\n",
    "# BN\n",
    "BN = layers.BatchNormalization()(context_vector)\n",
    "dense1 = layers.Dense(20, activation=\"relu\")(BN)\n",
    "\n",
    "dropout = layers.Dropout(0.5)(dense1)\n",
    "\n",
    "answer = layers.Dense(10, activation = 'softmax')(dropout)"
   ]
  },
  {
   "cell_type": "code",
   "execution_count": 14,
   "id": "fc9ad29b",
   "metadata": {},
   "outputs": [],
   "source": [
    "model_2_2 = Model([sequence_input_lstm], answer)\n",
    "model_2_2.compile(optimizer = 'Adam', loss = 'categorical_crossentropy', metrics = ['acc'])"
   ]
  },
  {
   "cell_type": "code",
   "execution_count": 15,
   "id": "b5724134",
   "metadata": {},
   "outputs": [
    {
     "name": "stdout",
     "output_type": "stream",
     "text": [
      "Model: \"model_1\"\n",
      "__________________________________________________________________________________________________\n",
      "Layer (type)                    Output Shape         Param #     Connected to                     \n",
      "==================================================================================================\n",
      "sequence_mnist_lstm (InputLayer [(None, 472)]        0                                            \n",
      "__________________________________________________________________________________________________\n",
      "embedding_1 (Embedding)         (None, 472, 32)      16384       sequence_mnist_lstm[0][0]        \n",
      "__________________________________________________________________________________________________\n",
      "bidirectional (Bidirectional)   (None, 472, 64)      16640       embedding_1[0][0]                \n",
      "__________________________________________________________________________________________________\n",
      "bidirectional_1 (Bidirectional) [(None, 472, 128), ( 66048       bidirectional[0][0]              \n",
      "__________________________________________________________________________________________________\n",
      "concatenate (Concatenate)       (None, 128)          0           bidirectional_1[0][1]            \n",
      "                                                                 bidirectional_1[0][3]            \n",
      "__________________________________________________________________________________________________\n",
      "bahdanau_attention (BahdanauAtt ((None, 128), (None, 16577       bidirectional_1[0][0]            \n",
      "                                                                 concatenate[0][0]                \n",
      "__________________________________________________________________________________________________\n",
      "batch_normalization (BatchNorma (None, 128)          512         bahdanau_attention[0][0]         \n",
      "__________________________________________________________________________________________________\n",
      "dense_4 (Dense)                 (None, 20)           2580        batch_normalization[0][0]        \n",
      "__________________________________________________________________________________________________\n",
      "dropout_1 (Dropout)             (None, 20)           0           dense_4[0][0]                    \n",
      "__________________________________________________________________________________________________\n",
      "dense_5 (Dense)                 (None, 10)           210         dropout_1[0][0]                  \n",
      "==================================================================================================\n",
      "Total params: 118,951\n",
      "Trainable params: 118,695\n",
      "Non-trainable params: 256\n",
      "__________________________________________________________________________________________________\n"
     ]
    }
   ],
   "source": [
    "model_2_2.summary()"
   ]
  },
  {
   "cell_type": "code",
   "execution_count": 16,
   "id": "6ce65123",
   "metadata": {},
   "outputs": [
    {
     "name": "stdout",
     "output_type": "stream",
     "text": [
      "Epoch 1/100\n"
     ]
    },
    {
     "name": "stderr",
     "output_type": "stream",
     "text": [
      "2022-05-05 01:06:10.942814: I tensorflow/stream_executor/cuda/cuda_dnn.cc:369] Loaded cuDNN version 8201\n"
     ]
    },
    {
     "name": "stdout",
     "output_type": "stream",
     "text": [
      "375/375 [==============================] - 38s 90ms/step - loss: 1.8979 - acc: 0.2977 - val_loss: 2.3136 - val_acc: 0.1767\n",
      "Epoch 2/100\n",
      "375/375 [==============================] - 34s 91ms/step - loss: 1.6205 - acc: 0.4016 - val_loss: 2.0101 - val_acc: 0.3385\n",
      "Epoch 3/100\n",
      "375/375 [==============================] - 34s 92ms/step - loss: 1.6858 - acc: 0.3870 - val_loss: 1.7960 - val_acc: 0.3507\n",
      "Epoch 4/100\n",
      "375/375 [==============================] - 33s 89ms/step - loss: 1.5320 - acc: 0.4487 - val_loss: 1.3712 - val_acc: 0.4979\n",
      "Epoch 5/100\n",
      "375/375 [==============================] - 34s 92ms/step - loss: 1.4770 - acc: 0.4740 - val_loss: 1.3117 - val_acc: 0.5498\n",
      "Epoch 6/100\n",
      "375/375 [==============================] - 34s 92ms/step - loss: 1.4347 - acc: 0.4928 - val_loss: 1.2116 - val_acc: 0.5975\n",
      "Epoch 7/100\n",
      "375/375 [==============================] - 34s 91ms/step - loss: 1.4043 - acc: 0.5043 - val_loss: 1.2184 - val_acc: 0.5606\n",
      "Epoch 8/100\n",
      "375/375 [==============================] - 33s 87ms/step - loss: 1.6082 - acc: 0.4331 - val_loss: 1.8470 - val_acc: 0.4285\n",
      "Epoch 9/100\n",
      "375/375 [==============================] - 33s 89ms/step - loss: 1.4086 - acc: 0.5028 - val_loss: 1.1816 - val_acc: 0.6030\n",
      "Epoch 10/100\n",
      "375/375 [==============================] - 33s 89ms/step - loss: 1.3664 - acc: 0.5211 - val_loss: 1.1500 - val_acc: 0.6097\n",
      "Epoch 11/100\n",
      "375/375 [==============================] - 34s 91ms/step - loss: 1.4669 - acc: 0.4837 - val_loss: 1.5732 - val_acc: 0.4628\n",
      "Epoch 12/100\n",
      "375/375 [==============================] - 33s 89ms/step - loss: 1.3829 - acc: 0.5102 - val_loss: 1.1687 - val_acc: 0.5696\n",
      "Epoch 13/100\n",
      "375/375 [==============================] - 34s 91ms/step - loss: 1.3597 - acc: 0.5207 - val_loss: 1.3164 - val_acc: 0.5466\n",
      "Epoch 14/100\n",
      "375/375 [==============================] - 34s 91ms/step - loss: 1.3451 - acc: 0.5261 - val_loss: 1.2626 - val_acc: 0.5551\n",
      "Epoch 15/100\n",
      "375/375 [==============================] - 34s 91ms/step - loss: 1.3172 - acc: 0.5387 - val_loss: 1.0983 - val_acc: 0.6331\n",
      "Epoch 16/100\n",
      "375/375 [==============================] - 34s 91ms/step - loss: 1.2990 - acc: 0.5446 - val_loss: 1.0837 - val_acc: 0.6320\n",
      "Epoch 17/100\n",
      "375/375 [==============================] - 34s 91ms/step - loss: 1.2764 - acc: 0.5510 - val_loss: 1.0993 - val_acc: 0.6113\n",
      "Epoch 18/100\n",
      "375/375 [==============================] - 34s 91ms/step - loss: 1.2695 - acc: 0.5581 - val_loss: 1.1179 - val_acc: 0.6200\n",
      "Epoch 19/100\n",
      "375/375 [==============================] - 34s 92ms/step - loss: 1.2452 - acc: 0.5689 - val_loss: 0.9969 - val_acc: 0.6742\n",
      "Epoch 20/100\n",
      "375/375 [==============================] - 33s 88ms/step - loss: 1.2331 - acc: 0.5744 - val_loss: 1.1938 - val_acc: 0.5888\n",
      "Epoch 21/100\n",
      "375/375 [==============================] - 34s 91ms/step - loss: 1.3651 - acc: 0.5222 - val_loss: 1.9312 - val_acc: 0.4511\n",
      "Epoch 22/100\n",
      "375/375 [==============================] - 33s 89ms/step - loss: 1.3195 - acc: 0.5355 - val_loss: 1.0621 - val_acc: 0.6406\n",
      "Epoch 23/100\n",
      "375/375 [==============================] - 34s 91ms/step - loss: 1.2996 - acc: 0.5481 - val_loss: 1.7073 - val_acc: 0.4055\n",
      "Epoch 24/100\n",
      "375/375 [==============================] - 33s 88ms/step - loss: 1.2694 - acc: 0.5594 - val_loss: 1.0679 - val_acc: 0.6386\n",
      "Epoch 25/100\n",
      "375/375 [==============================] - 33s 89ms/step - loss: 1.2335 - acc: 0.5729 - val_loss: 1.0630 - val_acc: 0.6392\n",
      "Epoch 26/100\n",
      "375/375 [==============================] - 32s 87ms/step - loss: 1.2109 - acc: 0.5826 - val_loss: 0.9551 - val_acc: 0.6908\n",
      "Epoch 27/100\n",
      "375/375 [==============================] - 34s 90ms/step - loss: 1.1976 - acc: 0.5932 - val_loss: 1.0150 - val_acc: 0.6585\n",
      "Epoch 28/100\n",
      "375/375 [==============================] - 34s 91ms/step - loss: 1.1901 - acc: 0.5918 - val_loss: 0.9908 - val_acc: 0.6764\n",
      "Epoch 29/100\n",
      "375/375 [==============================] - 34s 92ms/step - loss: 1.1748 - acc: 0.6000 - val_loss: 0.9787 - val_acc: 0.6804\n",
      "Epoch 30/100\n",
      "375/375 [==============================] - 34s 91ms/step - loss: 1.1646 - acc: 0.6047 - val_loss: 0.9313 - val_acc: 0.6992\n",
      "Epoch 31/100\n",
      "375/375 [==============================] - 34s 89ms/step - loss: 1.1523 - acc: 0.6107 - val_loss: 0.8996 - val_acc: 0.7125\n",
      "Epoch 32/100\n",
      "375/375 [==============================] - 34s 91ms/step - loss: 1.1278 - acc: 0.6196 - val_loss: 0.9919 - val_acc: 0.6884\n",
      "Epoch 33/100\n",
      "375/375 [==============================] - 34s 92ms/step - loss: 1.1082 - acc: 0.6306 - val_loss: 0.9107 - val_acc: 0.7105\n",
      "Epoch 34/100\n",
      "375/375 [==============================] - 33s 89ms/step - loss: 1.0660 - acc: 0.6491 - val_loss: 0.8081 - val_acc: 0.7526\n",
      "Epoch 35/100\n",
      "375/375 [==============================] - 34s 91ms/step - loss: 1.0315 - acc: 0.6612 - val_loss: 0.7671 - val_acc: 0.7611\n",
      "Epoch 36/100\n",
      "375/375 [==============================] - 34s 91ms/step - loss: 0.9842 - acc: 0.6782 - val_loss: 0.7079 - val_acc: 0.7769\n",
      "Epoch 37/100\n",
      "375/375 [==============================] - 34s 91ms/step - loss: 0.9659 - acc: 0.6838 - val_loss: 0.6848 - val_acc: 0.7933\n",
      "Epoch 38/100\n",
      "375/375 [==============================] - 34s 91ms/step - loss: 0.9149 - acc: 0.7002 - val_loss: 0.7433 - val_acc: 0.7814\n",
      "Epoch 39/100\n",
      "375/375 [==============================] - 33s 89ms/step - loss: 0.8901 - acc: 0.7145 - val_loss: 0.6121 - val_acc: 0.8139\n",
      "Epoch 40/100\n",
      "375/375 [==============================] - 33s 88ms/step - loss: 0.8526 - acc: 0.7247 - val_loss: 0.5965 - val_acc: 0.8125\n",
      "Epoch 41/100\n",
      "375/375 [==============================] - 33s 88ms/step - loss: 0.8476 - acc: 0.7294 - val_loss: 0.5289 - val_acc: 0.8432\n",
      "Epoch 42/100\n",
      "375/375 [==============================] - 33s 89ms/step - loss: 0.8096 - acc: 0.7398 - val_loss: 0.5270 - val_acc: 0.8465\n",
      "Epoch 43/100\n",
      "375/375 [==============================] - 34s 91ms/step - loss: 0.8012 - acc: 0.7479 - val_loss: 0.5292 - val_acc: 0.8383\n",
      "Epoch 44/100\n",
      "375/375 [==============================] - 34s 91ms/step - loss: 0.7971 - acc: 0.7485 - val_loss: 0.5442 - val_acc: 0.8402\n",
      "Epoch 45/100\n",
      "375/375 [==============================] - 33s 89ms/step - loss: 0.7438 - acc: 0.7642 - val_loss: 0.4754 - val_acc: 0.8652\n",
      "Epoch 46/100\n",
      "375/375 [==============================] - 34s 91ms/step - loss: 0.7609 - acc: 0.7595 - val_loss: 0.5177 - val_acc: 0.8537\n",
      "Epoch 47/100\n",
      "375/375 [==============================] - 34s 91ms/step - loss: 0.7205 - acc: 0.7751 - val_loss: 0.5194 - val_acc: 0.8507\n",
      "Epoch 48/100\n",
      "375/375 [==============================] - 34s 91ms/step - loss: 0.7089 - acc: 0.7771 - val_loss: 0.4618 - val_acc: 0.8673\n",
      "Epoch 49/100\n",
      "375/375 [==============================] - 34s 92ms/step - loss: 0.6858 - acc: 0.7844 - val_loss: 0.4372 - val_acc: 0.8757\n",
      "Epoch 50/100\n",
      "375/375 [==============================] - 34s 89ms/step - loss: 0.6762 - acc: 0.7898 - val_loss: 0.4602 - val_acc: 0.8741\n",
      "Epoch 51/100\n",
      "375/375 [==============================] - 34s 89ms/step - loss: 0.6643 - acc: 0.7914 - val_loss: 0.4685 - val_acc: 0.8705\n",
      "Epoch 52/100\n",
      "375/375 [==============================] - 33s 88ms/step - loss: 0.6698 - acc: 0.7936 - val_loss: 0.5116 - val_acc: 0.8668\n",
      "Epoch 53/100\n",
      "375/375 [==============================] - 33s 89ms/step - loss: 0.6724 - acc: 0.7905 - val_loss: 2.2383 - val_acc: 0.1985\n",
      "Epoch 54/100\n",
      "375/375 [==============================] - 32s 86ms/step - loss: 1.0719 - acc: 0.6538 - val_loss: 0.6922 - val_acc: 0.7874\n",
      "Epoch 55/100\n",
      "375/375 [==============================] - 34s 91ms/step - loss: 0.8558 - acc: 0.7280 - val_loss: 0.7246 - val_acc: 0.8148\n",
      "Epoch 56/100\n",
      "375/375 [==============================] - 34s 92ms/step - loss: 0.7749 - acc: 0.7610 - val_loss: 0.5560 - val_acc: 0.8470\n",
      "Epoch 57/100\n",
      "375/375 [==============================] - 34s 92ms/step - loss: 0.7492 - acc: 0.7664 - val_loss: 0.6064 - val_acc: 0.8198\n",
      "Epoch 58/100\n",
      "375/375 [==============================] - 34s 91ms/step - loss: 0.8763 - acc: 0.7263 - val_loss: 0.6200 - val_acc: 0.8231\n",
      "Epoch 59/100\n",
      "375/375 [==============================] - 34s 91ms/step - loss: 0.8044 - acc: 0.7500 - val_loss: 0.6812 - val_acc: 0.7951\n",
      "Epoch 60/100\n",
      "375/375 [==============================] - 34s 91ms/step - loss: 0.8434 - acc: 0.7363 - val_loss: 0.5573 - val_acc: 0.8365\n",
      "Epoch 61/100\n",
      "375/375 [==============================] - 34s 91ms/step - loss: 0.7944 - acc: 0.7519 - val_loss: 0.5858 - val_acc: 0.8340\n",
      "Epoch 62/100\n",
      "375/375 [==============================] - 34s 91ms/step - loss: 0.7817 - acc: 0.7573 - val_loss: 0.5417 - val_acc: 0.8537\n",
      "Epoch 63/100\n",
      "375/375 [==============================] - 33s 89ms/step - loss: 0.7202 - acc: 0.7771 - val_loss: 0.5505 - val_acc: 0.8518\n",
      "Epoch 64/100\n",
      "375/375 [==============================] - 34s 92ms/step - loss: 0.7085 - acc: 0.7814 - val_loss: 0.5157 - val_acc: 0.8622\n",
      "Epoch 65/100\n",
      "375/375 [==============================] - 34s 91ms/step - loss: 0.7573 - acc: 0.7649 - val_loss: 0.6217 - val_acc: 0.8236\n",
      "Epoch 66/100\n",
      "375/375 [==============================] - 34s 92ms/step - loss: 0.7526 - acc: 0.7670 - val_loss: 0.4872 - val_acc: 0.8668\n",
      "Epoch 67/100\n",
      "375/375 [==============================] - 34s 91ms/step - loss: 0.6726 - acc: 0.7919 - val_loss: 0.4839 - val_acc: 0.8687\n",
      "Epoch 68/100\n",
      "375/375 [==============================] - 34s 91ms/step - loss: 0.6491 - acc: 0.8022 - val_loss: 0.4910 - val_acc: 0.8743\n",
      "Epoch 69/100\n",
      "375/375 [==============================] - 34s 89ms/step - loss: 0.6368 - acc: 0.8042 - val_loss: 0.4744 - val_acc: 0.8733\n",
      "Epoch 70/100\n",
      "375/375 [==============================] - 32s 85ms/step - loss: 0.6236 - acc: 0.8103 - val_loss: 0.4433 - val_acc: 0.8861\n",
      "Epoch 71/100\n",
      "375/375 [==============================] - 33s 89ms/step - loss: 1.0201 - acc: 0.6746 - val_loss: 0.8095 - val_acc: 0.7542\n",
      "Epoch 72/100\n",
      "375/375 [==============================] - 34s 91ms/step - loss: 0.9664 - acc: 0.6950 - val_loss: 0.7539 - val_acc: 0.7747\n",
      "Epoch 73/100\n",
      "375/375 [==============================] - 33s 88ms/step - loss: 0.8959 - acc: 0.7193 - val_loss: 0.6783 - val_acc: 0.7980\n",
      "Epoch 74/100\n",
      "375/375 [==============================] - 34s 90ms/step - loss: 0.8428 - acc: 0.7353 - val_loss: 0.6249 - val_acc: 0.8207\n",
      "Epoch 75/100\n",
      "375/375 [==============================] - 34s 91ms/step - loss: 0.7883 - acc: 0.7570 - val_loss: 0.5453 - val_acc: 0.8403\n",
      "Epoch 76/100\n",
      "375/375 [==============================] - 34s 91ms/step - loss: 0.7419 - acc: 0.7713 - val_loss: 0.4981 - val_acc: 0.8639\n",
      "Epoch 77/100\n",
      "375/375 [==============================] - 34s 92ms/step - loss: 0.6684 - acc: 0.7940 - val_loss: 0.4347 - val_acc: 0.8799\n",
      "Epoch 78/100\n",
      "375/375 [==============================] - 34s 91ms/step - loss: 0.6512 - acc: 0.8041 - val_loss: 0.4531 - val_acc: 0.8749\n",
      "Epoch 79/100\n",
      "375/375 [==============================] - 34s 91ms/step - loss: 0.6319 - acc: 0.8089 - val_loss: 0.4545 - val_acc: 0.8782\n",
      "Epoch 80/100\n",
      "375/375 [==============================] - 34s 91ms/step - loss: 0.6187 - acc: 0.8119 - val_loss: 0.4338 - val_acc: 0.8817\n",
      "Epoch 81/100\n",
      "375/375 [==============================] - 34s 91ms/step - loss: 0.6064 - acc: 0.8162 - val_loss: 0.4757 - val_acc: 0.8701\n",
      "Epoch 82/100\n",
      "375/375 [==============================] - 34s 91ms/step - loss: 0.6140 - acc: 0.8138 - val_loss: 0.4435 - val_acc: 0.8783\n",
      "Epoch 83/100\n",
      "375/375 [==============================] - 33s 89ms/step - loss: 0.5967 - acc: 0.8198 - val_loss: 0.4735 - val_acc: 0.8738\n",
      "Epoch 84/100\n",
      "375/375 [==============================] - 34s 91ms/step - loss: 0.5946 - acc: 0.8227 - val_loss: 0.4407 - val_acc: 0.8846\n",
      "Epoch 85/100\n",
      "375/375 [==============================] - 34s 91ms/step - loss: 0.5818 - acc: 0.8259 - val_loss: 0.4062 - val_acc: 0.8901\n",
      "Epoch 86/100\n",
      "375/375 [==============================] - 32s 86ms/step - loss: 0.5672 - acc: 0.8282 - val_loss: 0.4511 - val_acc: 0.8838\n",
      "Epoch 87/100\n",
      "375/375 [==============================] - 34s 91ms/step - loss: 0.5722 - acc: 0.8293 - val_loss: 0.4643 - val_acc: 0.8793\n",
      "Epoch 88/100\n",
      "375/375 [==============================] - 34s 91ms/step - loss: 0.5782 - acc: 0.8241 - val_loss: 0.4595 - val_acc: 0.8799\n",
      "Epoch 89/100\n",
      "375/375 [==============================] - 33s 89ms/step - loss: 0.6495 - acc: 0.8034 - val_loss: 0.4917 - val_acc: 0.8715\n",
      "Epoch 90/100\n",
      "375/375 [==============================] - 34s 91ms/step - loss: 0.5810 - acc: 0.8251 - val_loss: 0.4360 - val_acc: 0.8831\n",
      "Epoch 91/100\n",
      "375/375 [==============================] - 33s 87ms/step - loss: 0.5507 - acc: 0.8342 - val_loss: 0.4477 - val_acc: 0.8906\n",
      "Epoch 92/100\n",
      "375/375 [==============================] - 34s 90ms/step - loss: 0.5376 - acc: 0.8390 - val_loss: 0.3997 - val_acc: 0.8981\n",
      "Epoch 93/100\n",
      "375/375 [==============================] - 34s 91ms/step - loss: 0.5384 - acc: 0.8378 - val_loss: 0.3996 - val_acc: 0.8972\n",
      "Epoch 94/100\n",
      "375/375 [==============================] - 33s 88ms/step - loss: 0.5422 - acc: 0.8384 - val_loss: 0.4319 - val_acc: 0.8892\n",
      "Epoch 95/100\n",
      "375/375 [==============================] - 33s 88ms/step - loss: 0.5316 - acc: 0.8399 - val_loss: 0.3791 - val_acc: 0.9020\n",
      "Epoch 96/100\n",
      "375/375 [==============================] - 33s 88ms/step - loss: 0.5185 - acc: 0.8450 - val_loss: 0.3857 - val_acc: 0.8985\n",
      "Epoch 97/100\n",
      "375/375 [==============================] - 33s 89ms/step - loss: 0.5153 - acc: 0.8455 - val_loss: 0.4067 - val_acc: 0.8982\n",
      "Epoch 98/100\n",
      "375/375 [==============================] - 34s 91ms/step - loss: 0.5108 - acc: 0.8479 - val_loss: 0.3760 - val_acc: 0.9058\n",
      "Epoch 99/100\n",
      "375/375 [==============================] - 34s 91ms/step - loss: 0.5036 - acc: 0.8471 - val_loss: 0.3738 - val_acc: 0.9033\n",
      "Epoch 100/100\n",
      "375/375 [==============================] - 34s 91ms/step - loss: 0.5312 - acc: 0.8420 - val_loss: 0.3859 - val_acc: 0.8994\n"
     ]
    }
   ],
   "source": [
    "history2_2 = model_2_2.fit([x_sequence_train_tf], y_train, epochs = 100, batch_size = 128, validation_split = 0.2)"
   ]
  },
  {
   "cell_type": "code",
   "execution_count": 17,
   "id": "5f8e8adf",
   "metadata": {},
   "outputs": [
    {
     "data": {
      "image/png": "[encoded data removed]",
      "text/plain": [
       "<Figure size 432x288 with 1 Axes>"
      ]
     },
     "metadata": {
      "needs_background": "light"
     },
     "output_type": "display_data"
    }
   ],
   "source": [
    "graph(history2_2)"
   ]
  },
  {
   "cell_type": "code",
   "execution_count": 18,
   "id": "00dbe140",
   "metadata": {},
   "outputs": [
    {
     "name": "stdout",
     "output_type": "stream",
     "text": [
      "313/313 - 11s - loss: 0.3442 - acc: 0.9036\n"
     ]
    },
    {
     "data": {
      "text/plain": [
       "[0.34421470761299133, 0.9035999774932861]"
      ]
     },
     "execution_count": 18,
     "metadata": {},
     "output_type": "execute_result"
    }
   ],
   "source": [
    "model_2_2_eval = model_2_2.evaluate([x_sequence_test_tf], y_test, verbose=2)\n",
    "model_2_2_eval"
   ]
  },
  {
   "cell_type": "markdown",
   "id": "ae768121",
   "metadata": {},
   "source": [
    "## 2.3 Transformer"
   ]
  },
  {
   "cell_type": "code",
   "execution_count": 19,
   "id": "678ca807",
   "metadata": {},
   "outputs": [],
   "source": [
    "class TransformerBlock(layers.Layer):\n",
    "    def __init__(self, embed_dim, num_heads, ff_dim, rate=0.1):\n",
    "        super(TransformerBlock, self).__init__()\n",
    "        self.att = layers.MultiHeadAttention(num_heads=num_heads, key_dim=embed_dim)\n",
    "        self.ffn = keras.Sequential(\n",
    "            [layers.Dense(ff_dim, activation=\"relu\"), layers.Dense(embed_dim),]\n",
    "        )\n",
    "        self.layernorm1 = layers.LayerNormalization(epsilon=1e-6)\n",
    "        self.layernorm2 = layers.LayerNormalization(epsilon=1e-6)\n",
    "        self.dropout1 = layers.Dropout(rate)\n",
    "        self.dropout2 = layers.Dropout(rate)\n",
    "\n",
    "    def call(self, inputs, training):\n",
    "        attn_output = self.att(inputs, inputs)\n",
    "        attn_output = self.dropout1(attn_output, training=training)\n",
    "        out1 = self.layernorm1(inputs + attn_output)\n",
    "        ffn_output = self.ffn(out1)\n",
    "        ffn_output = self.dropout2(ffn_output, training=training)\n",
    "        return self.layernorm2(out1 + ffn_output)"
   ]
  },
  {
   "cell_type": "code",
   "execution_count": 20,
   "id": "46ccbfcb",
   "metadata": {},
   "outputs": [],
   "source": [
    "class TokenAndPositionEmbedding(layers.Layer):\n",
    "    def __init__(self, maxlen, vocab_size, embed_dim):\n",
    "        super(TokenAndPositionEmbedding, self).__init__()\n",
    "        self.token_emb = layers.Embedding(input_dim=vocab_size, output_dim=embed_dim)\n",
    "        self.pos_emb = layers.Embedding(input_dim=maxlen, output_dim=embed_dim)\n",
    "\n",
    "    def call(self, x):\n",
    "        maxlen = tf.shape(x)[-1]\n",
    "        positions = tf.range(start=0, limit=maxlen, delta=1)\n",
    "        positions = self.pos_emb(positions)\n",
    "        x = self.token_emb(x)\n",
    "        return x + positions"
   ]
  },
  {
   "cell_type": "code",
   "execution_count": 21,
   "id": "8f7166d4",
   "metadata": {},
   "outputs": [],
   "source": [
    "embed_dim = 32  # Embedding size for each token\n",
    "num_heads = 2  # Number of attention heads\n",
    "ff_dim = 32  # Hidden layer size in feed forward network inside transformer\n",
    "maxlen = 118*4\n",
    "vocab_size = 1000\n",
    "\n",
    "inputs = layers.Input(shape=(maxlen,))\n",
    "embedding_layer = TokenAndPositionEmbedding(maxlen, vocab_size, embed_dim)\n",
    "x = embedding_layer(inputs)\n",
    "transformer_block = TransformerBlock(embed_dim, num_heads, ff_dim)\n",
    "x = transformer_block(x)\n",
    "x = layers.GlobalAveragePooling1D()(x)\n",
    "x = layers.Dropout(0.1)(x)\n",
    "x = layers.Dense(20, activation=\"relu\")(x)\n",
    "x = layers.Dropout(0.1)(x)\n",
    "outputs = layers.Dense(10, activation=\"softmax\")(x)\n",
    "\n",
    "model_2_3 = keras.Model(inputs=inputs, outputs=outputs)"
   ]
  },
  {
   "cell_type": "code",
   "execution_count": 22,
   "id": "346a5a26",
   "metadata": {},
   "outputs": [
    {
     "name": "stdout",
     "output_type": "stream",
     "text": [
      "Model: \"model_2\"\n",
      "_________________________________________________________________\n",
      "Layer (type)                 Output Shape              Param #   \n",
      "=================================================================\n",
      "input_1 (InputLayer)         [(None, 472)]             0         \n",
      "_________________________________________________________________\n",
      "token_and_position_embedding (None, 472, 32)           47104     \n",
      "_________________________________________________________________\n",
      "transformer_block (Transform (None, 472, 32)           10656     \n",
      "_________________________________________________________________\n",
      "global_average_pooling1d (Gl (None, 32)                0         \n",
      "_________________________________________________________________\n",
      "dropout_4 (Dropout)          (None, 32)                0         \n",
      "_________________________________________________________________\n",
      "dense_8 (Dense)              (None, 20)                660       \n",
      "_________________________________________________________________\n",
      "dropout_5 (Dropout)          (None, 20)                0         \n",
      "_________________________________________________________________\n",
      "dense_9 (Dense)              (None, 10)                210       \n",
      "=================================================================\n",
      "Total params: 58,630\n",
      "Trainable params: 58,630\n",
      "Non-trainable params: 0\n",
      "_________________________________________________________________\n"
     ]
    }
   ],
   "source": [
    "model_2_3.summary()"
   ]
  },
  {
   "cell_type": "code",
   "execution_count": 23,
   "id": "dff97023",
   "metadata": {},
   "outputs": [],
   "source": [
    "model_2_3.compile(optimizer=\"Adam\", loss=\"categorical_crossentropy\", metrics=[\"acc\"])"
   ]
  },
  {
   "cell_type": "code",
   "execution_count": 24,
   "id": "690f510f",
   "metadata": {},
   "outputs": [
    {
     "name": "stdout",
     "output_type": "stream",
     "text": [
      "Epoch 1/100\n",
      "375/375 [==============================] - 7s 18ms/step - loss: 2.2849 - acc: 0.1234 - val_loss: 2.1091 - val_acc: 0.1943\n",
      "Epoch 2/100\n",
      "375/375 [==============================] - 7s 17ms/step - loss: 1.9821 - acc: 0.2565 - val_loss: 1.8011 - val_acc: 0.3362\n",
      "Epoch 3/100\n",
      "375/375 [==============================] - 7s 17ms/step - loss: 1.4593 - acc: 0.4770 - val_loss: 1.2105 - val_acc: 0.5704\n",
      "Epoch 4/100\n",
      "375/375 [==============================] - 7s 17ms/step - loss: 1.1925 - acc: 0.5869 - val_loss: 1.0523 - val_acc: 0.6362\n",
      "Epoch 5/100\n",
      "375/375 [==============================] - 7s 17ms/step - loss: 1.0606 - acc: 0.6372 - val_loss: 0.9772 - val_acc: 0.6684\n",
      "Epoch 6/100\n",
      "375/375 [==============================] - 7s 17ms/step - loss: 0.9725 - acc: 0.6700 - val_loss: 0.8806 - val_acc: 0.6988\n",
      "Epoch 7/100\n",
      "375/375 [==============================] - 7s 17ms/step - loss: 0.9239 - acc: 0.6885 - val_loss: 0.8415 - val_acc: 0.7117\n",
      "Epoch 8/100\n",
      "375/375 [==============================] - 6s 17ms/step - loss: 0.8877 - acc: 0.6988 - val_loss: 0.8223 - val_acc: 0.7176\n",
      "Epoch 9/100\n",
      "375/375 [==============================] - 7s 17ms/step - loss: 0.8555 - acc: 0.7114 - val_loss: 0.7993 - val_acc: 0.7303\n",
      "Epoch 10/100\n",
      "375/375 [==============================] - 7s 18ms/step - loss: 0.8320 - acc: 0.7235 - val_loss: 0.7641 - val_acc: 0.7395\n",
      "Epoch 11/100\n",
      "375/375 [==============================] - 7s 18ms/step - loss: 0.8023 - acc: 0.7322 - val_loss: 0.7363 - val_acc: 0.7488\n",
      "Epoch 12/100\n",
      "375/375 [==============================] - 7s 18ms/step - loss: 0.7780 - acc: 0.7431 - val_loss: 0.7170 - val_acc: 0.7602\n",
      "Epoch 13/100\n",
      "375/375 [==============================] - 7s 18ms/step - loss: 0.7534 - acc: 0.7531 - val_loss: 0.6983 - val_acc: 0.7646\n",
      "Epoch 14/100\n",
      "375/375 [==============================] - 7s 18ms/step - loss: 0.7396 - acc: 0.7559 - val_loss: 0.6987 - val_acc: 0.7653\n",
      "Epoch 15/100\n",
      "375/375 [==============================] - 7s 18ms/step - loss: 0.7209 - acc: 0.7651 - val_loss: 0.6822 - val_acc: 0.7725\n",
      "Epoch 16/100\n",
      "375/375 [==============================] - 7s 18ms/step - loss: 0.7062 - acc: 0.7674 - val_loss: 0.6647 - val_acc: 0.7802\n",
      "Epoch 17/100\n",
      "375/375 [==============================] - 7s 18ms/step - loss: 0.6922 - acc: 0.7746 - val_loss: 0.6560 - val_acc: 0.7842\n",
      "Epoch 18/100\n",
      "375/375 [==============================] - 7s 18ms/step - loss: 0.6775 - acc: 0.7799 - val_loss: 0.6388 - val_acc: 0.7933\n",
      "Epoch 19/100\n",
      "375/375 [==============================] - 7s 18ms/step - loss: 0.6702 - acc: 0.7837 - val_loss: 0.6211 - val_acc: 0.7987\n",
      "Epoch 20/100\n",
      "375/375 [==============================] - 7s 18ms/step - loss: 0.6556 - acc: 0.7870 - val_loss: 0.6106 - val_acc: 0.8024\n",
      "Epoch 21/100\n",
      "375/375 [==============================] - 7s 18ms/step - loss: 0.6472 - acc: 0.7901 - val_loss: 0.6195 - val_acc: 0.7962\n",
      "Epoch 22/100\n",
      "375/375 [==============================] - 7s 18ms/step - loss: 0.6393 - acc: 0.7943 - val_loss: 0.5819 - val_acc: 0.8133\n",
      "Epoch 23/100\n",
      "375/375 [==============================] - 7s 18ms/step - loss: 0.6288 - acc: 0.7995 - val_loss: 0.5837 - val_acc: 0.8119\n",
      "Epoch 24/100\n",
      "375/375 [==============================] - 7s 18ms/step - loss: 0.6150 - acc: 0.8041 - val_loss: 0.5873 - val_acc: 0.8123\n",
      "Epoch 25/100\n",
      "375/375 [==============================] - 7s 18ms/step - loss: 0.6138 - acc: 0.8047 - val_loss: 0.5757 - val_acc: 0.8167\n",
      "Epoch 26/100\n",
      "375/375 [==============================] - 7s 17ms/step - loss: 0.6012 - acc: 0.8090 - val_loss: 0.6069 - val_acc: 0.8121\n",
      "Epoch 27/100\n",
      "375/375 [==============================] - 7s 18ms/step - loss: 0.5974 - acc: 0.8096 - val_loss: 0.5947 - val_acc: 0.8082\n",
      "Epoch 28/100\n",
      "375/375 [==============================] - 7s 18ms/step - loss: 0.5844 - acc: 0.8150 - val_loss: 0.5647 - val_acc: 0.8231\n",
      "Epoch 29/100\n",
      "375/375 [==============================] - 7s 18ms/step - loss: 0.5789 - acc: 0.8171 - val_loss: 0.5409 - val_acc: 0.8294\n",
      "Epoch 30/100\n",
      "375/375 [==============================] - 7s 18ms/step - loss: 0.5671 - acc: 0.8214 - val_loss: 0.5496 - val_acc: 0.8247\n",
      "Epoch 31/100\n",
      "375/375 [==============================] - 7s 18ms/step - loss: 0.5624 - acc: 0.8225 - val_loss: 0.5322 - val_acc: 0.8344\n",
      "Epoch 32/100\n",
      "375/375 [==============================] - 7s 18ms/step - loss: 0.5545 - acc: 0.8241 - val_loss: 0.5232 - val_acc: 0.8318\n",
      "Epoch 33/100\n",
      "375/375 [==============================] - 7s 18ms/step - loss: 0.5470 - acc: 0.8267 - val_loss: 0.5256 - val_acc: 0.8366\n",
      "Epoch 34/100\n",
      "375/375 [==============================] - 7s 18ms/step - loss: 0.5423 - acc: 0.8298 - val_loss: 0.5256 - val_acc: 0.8330\n",
      "Epoch 35/100\n",
      "375/375 [==============================] - 7s 18ms/step - loss: 0.5352 - acc: 0.8320 - val_loss: 0.5129 - val_acc: 0.8367\n",
      "Epoch 36/100\n",
      "375/375 [==============================] - 7s 18ms/step - loss: 0.5351 - acc: 0.8321 - val_loss: 0.5007 - val_acc: 0.8428\n",
      "Epoch 37/100\n",
      "375/375 [==============================] - 7s 18ms/step - loss: 0.5276 - acc: 0.8354 - val_loss: 0.5353 - val_acc: 0.8292\n",
      "Epoch 38/100\n",
      "375/375 [==============================] - 7s 18ms/step - loss: 0.5243 - acc: 0.8354 - val_loss: 0.5088 - val_acc: 0.8366\n",
      "Epoch 39/100\n",
      "375/375 [==============================] - 7s 17ms/step - loss: 0.5131 - acc: 0.8387 - val_loss: 0.5057 - val_acc: 0.8402\n",
      "Epoch 40/100\n",
      "375/375 [==============================] - 7s 18ms/step - loss: 0.5140 - acc: 0.8386 - val_loss: 0.4959 - val_acc: 0.8479\n",
      "Epoch 41/100\n",
      "375/375 [==============================] - 7s 18ms/step - loss: 0.5065 - acc: 0.8421 - val_loss: 0.4941 - val_acc: 0.8435\n",
      "Epoch 42/100\n",
      "375/375 [==============================] - 7s 18ms/step - loss: 0.5027 - acc: 0.8437 - val_loss: 0.4881 - val_acc: 0.8443\n",
      "Epoch 43/100\n",
      "375/375 [==============================] - 7s 18ms/step - loss: 0.5025 - acc: 0.8428 - val_loss: 0.5039 - val_acc: 0.8420\n",
      "Epoch 44/100\n",
      "375/375 [==============================] - 7s 17ms/step - loss: 0.4967 - acc: 0.8443 - val_loss: 0.4948 - val_acc: 0.8422\n",
      "Epoch 45/100\n",
      "375/375 [==============================] - 7s 17ms/step - loss: 0.4930 - acc: 0.8459 - val_loss: 0.4816 - val_acc: 0.8519\n",
      "Epoch 46/100\n",
      "375/375 [==============================] - 7s 18ms/step - loss: 0.4887 - acc: 0.8465 - val_loss: 0.4850 - val_acc: 0.8518\n",
      "Epoch 47/100\n",
      "375/375 [==============================] - 7s 18ms/step - loss: 0.4878 - acc: 0.8468 - val_loss: 0.4814 - val_acc: 0.8522\n",
      "Epoch 48/100\n",
      "375/375 [==============================] - 7s 18ms/step - loss: 0.4875 - acc: 0.8461 - val_loss: 0.4821 - val_acc: 0.8483\n",
      "Epoch 49/100\n",
      "375/375 [==============================] - 7s 18ms/step - loss: 0.4814 - acc: 0.8496 - val_loss: 0.4896 - val_acc: 0.8485\n",
      "Epoch 50/100\n",
      "375/375 [==============================] - 7s 18ms/step - loss: 0.4815 - acc: 0.8493 - val_loss: 0.4736 - val_acc: 0.8543\n",
      "Epoch 51/100\n",
      "375/375 [==============================] - 7s 18ms/step - loss: 0.4777 - acc: 0.8505 - val_loss: 0.4743 - val_acc: 0.8518\n",
      "Epoch 52/100\n",
      "375/375 [==============================] - 7s 18ms/step - loss: 0.4732 - acc: 0.8522 - val_loss: 0.4912 - val_acc: 0.8506\n",
      "Epoch 53/100\n",
      "375/375 [==============================] - 7s 17ms/step - loss: 0.4697 - acc: 0.8519 - val_loss: 0.4793 - val_acc: 0.8485\n",
      "Epoch 54/100\n",
      "375/375 [==============================] - 7s 18ms/step - loss: 0.4688 - acc: 0.8513 - val_loss: 0.4653 - val_acc: 0.8580\n",
      "Epoch 55/100\n",
      "375/375 [==============================] - 7s 18ms/step - loss: 0.4669 - acc: 0.8533 - val_loss: 0.4715 - val_acc: 0.8494\n",
      "Epoch 56/100\n",
      "375/375 [==============================] - 7s 18ms/step - loss: 0.4651 - acc: 0.8529 - val_loss: 0.4706 - val_acc: 0.8568\n",
      "Epoch 57/100\n",
      "375/375 [==============================] - 7s 18ms/step - loss: 0.4620 - acc: 0.8533 - val_loss: 0.4685 - val_acc: 0.8547\n",
      "Epoch 58/100\n",
      "375/375 [==============================] - 7s 18ms/step - loss: 0.4613 - acc: 0.8537 - val_loss: 0.4848 - val_acc: 0.8497\n",
      "Epoch 59/100\n",
      "375/375 [==============================] - 7s 17ms/step - loss: 0.4565 - acc: 0.8561 - val_loss: 0.4618 - val_acc: 0.8569\n",
      "Epoch 60/100\n",
      "375/375 [==============================] - 7s 18ms/step - loss: 0.4575 - acc: 0.8570 - val_loss: 0.4664 - val_acc: 0.8549\n",
      "Epoch 61/100\n",
      "375/375 [==============================] - 7s 17ms/step - loss: 0.4541 - acc: 0.8576 - val_loss: 0.4712 - val_acc: 0.8558\n"
     ]
    },
    {
     "name": "stdout",
     "output_type": "stream",
     "text": [
      "Epoch 62/100\n",
      "375/375 [==============================] - 7s 18ms/step - loss: 0.4546 - acc: 0.8562 - val_loss: 0.4626 - val_acc: 0.8572\n",
      "Epoch 63/100\n",
      "375/375 [==============================] - 7s 18ms/step - loss: 0.4518 - acc: 0.8590 - val_loss: 0.4678 - val_acc: 0.8570\n",
      "Epoch 64/100\n",
      "375/375 [==============================] - 7s 17ms/step - loss: 0.4465 - acc: 0.8606 - val_loss: 0.4742 - val_acc: 0.8544\n",
      "Epoch 65/100\n",
      "375/375 [==============================] - 7s 18ms/step - loss: 0.4465 - acc: 0.8600 - val_loss: 0.4660 - val_acc: 0.8575\n",
      "Epoch 66/100\n",
      "375/375 [==============================] - 7s 17ms/step - loss: 0.4402 - acc: 0.8622 - val_loss: 0.4816 - val_acc: 0.8534\n",
      "Epoch 67/100\n",
      "375/375 [==============================] - 7s 18ms/step - loss: 0.4411 - acc: 0.8613 - val_loss: 0.4562 - val_acc: 0.8593\n",
      "Epoch 68/100\n",
      "375/375 [==============================] - 7s 18ms/step - loss: 0.4400 - acc: 0.8608 - val_loss: 0.4636 - val_acc: 0.8600\n",
      "Epoch 69/100\n",
      "375/375 [==============================] - 7s 17ms/step - loss: 0.4397 - acc: 0.8613 - val_loss: 0.4599 - val_acc: 0.8601\n",
      "Epoch 70/100\n",
      "375/375 [==============================] - 7s 17ms/step - loss: 0.4362 - acc: 0.8614 - val_loss: 0.4708 - val_acc: 0.8583\n",
      "Epoch 71/100\n",
      "375/375 [==============================] - 7s 18ms/step - loss: 0.4389 - acc: 0.8623 - val_loss: 0.4555 - val_acc: 0.8612\n",
      "Epoch 72/100\n",
      "375/375 [==============================] - 7s 18ms/step - loss: 0.4302 - acc: 0.8645 - val_loss: 0.4587 - val_acc: 0.8565\n",
      "Epoch 73/100\n",
      "375/375 [==============================] - 7s 18ms/step - loss: 0.4348 - acc: 0.8629 - val_loss: 0.4665 - val_acc: 0.8554\n",
      "Epoch 74/100\n",
      "375/375 [==============================] - 7s 18ms/step - loss: 0.4318 - acc: 0.8647 - val_loss: 0.4617 - val_acc: 0.8587\n",
      "Epoch 75/100\n",
      "375/375 [==============================] - 7s 18ms/step - loss: 0.4308 - acc: 0.8642 - val_loss: 0.4630 - val_acc: 0.8586\n",
      "Epoch 76/100\n",
      "375/375 [==============================] - 7s 17ms/step - loss: 0.4307 - acc: 0.8645 - val_loss: 0.4632 - val_acc: 0.8595\n",
      "Epoch 77/100\n",
      "375/375 [==============================] - 7s 18ms/step - loss: 0.4292 - acc: 0.8644 - val_loss: 0.4634 - val_acc: 0.8587\n",
      "Epoch 78/100\n",
      "375/375 [==============================] - 7s 18ms/step - loss: 0.4260 - acc: 0.8656 - val_loss: 0.4514 - val_acc: 0.8616\n",
      "Epoch 79/100\n",
      "375/375 [==============================] - 7s 18ms/step - loss: 0.4256 - acc: 0.8657 - val_loss: 0.4581 - val_acc: 0.8608\n",
      "Epoch 80/100\n",
      "375/375 [==============================] - 7s 18ms/step - loss: 0.4236 - acc: 0.8672 - val_loss: 0.4537 - val_acc: 0.8578\n",
      "Epoch 81/100\n",
      "375/375 [==============================] - 7s 18ms/step - loss: 0.4192 - acc: 0.8674 - val_loss: 0.4642 - val_acc: 0.8591\n",
      "Epoch 82/100\n",
      "375/375 [==============================] - 7s 18ms/step - loss: 0.4228 - acc: 0.8668 - val_loss: 0.4560 - val_acc: 0.8618\n",
      "Epoch 83/100\n",
      "375/375 [==============================] - 7s 17ms/step - loss: 0.4175 - acc: 0.8674 - val_loss: 0.4531 - val_acc: 0.8593\n",
      "Epoch 84/100\n",
      "375/375 [==============================] - 7s 17ms/step - loss: 0.4237 - acc: 0.8662 - val_loss: 0.4471 - val_acc: 0.8623\n",
      "Epoch 85/100\n",
      "375/375 [==============================] - 7s 17ms/step - loss: 0.4148 - acc: 0.8683 - val_loss: 0.4534 - val_acc: 0.8607\n",
      "Epoch 86/100\n",
      "375/375 [==============================] - 7s 17ms/step - loss: 0.4145 - acc: 0.8690 - val_loss: 0.4656 - val_acc: 0.8588\n",
      "Epoch 87/100\n",
      "375/375 [==============================] - 7s 18ms/step - loss: 0.4140 - acc: 0.8687 - val_loss: 0.4456 - val_acc: 0.8628\n",
      "Epoch 88/100\n",
      "375/375 [==============================] - 7s 17ms/step - loss: 0.4118 - acc: 0.8704 - val_loss: 0.4578 - val_acc: 0.8619\n",
      "Epoch 89/100\n",
      "375/375 [==============================] - 7s 18ms/step - loss: 0.4109 - acc: 0.8698 - val_loss: 0.4571 - val_acc: 0.8598\n",
      "Epoch 90/100\n",
      "375/375 [==============================] - 7s 18ms/step - loss: 0.4117 - acc: 0.8687 - val_loss: 0.4477 - val_acc: 0.8640\n",
      "Epoch 91/100\n",
      "375/375 [==============================] - 7s 18ms/step - loss: 0.4084 - acc: 0.8703 - val_loss: 0.4459 - val_acc: 0.8640\n",
      "Epoch 92/100\n",
      "375/375 [==============================] - 6s 17ms/step - loss: 0.4115 - acc: 0.8693 - val_loss: 0.4463 - val_acc: 0.8650\n",
      "Epoch 93/100\n",
      "375/375 [==============================] - 7s 17ms/step - loss: 0.4086 - acc: 0.8707 - val_loss: 0.4538 - val_acc: 0.8644\n",
      "Epoch 94/100\n",
      "375/375 [==============================] - 7s 17ms/step - loss: 0.4050 - acc: 0.8722 - val_loss: 0.4514 - val_acc: 0.8613\n",
      "Epoch 95/100\n",
      "375/375 [==============================] - 6s 17ms/step - loss: 0.4042 - acc: 0.8723 - val_loss: 0.4483 - val_acc: 0.8635\n",
      "Epoch 96/100\n",
      "375/375 [==============================] - 7s 18ms/step - loss: 0.4058 - acc: 0.8721 - val_loss: 0.4597 - val_acc: 0.8647\n",
      "Epoch 97/100\n",
      "375/375 [==============================] - 7s 18ms/step - loss: 0.3999 - acc: 0.8734 - val_loss: 0.4668 - val_acc: 0.8610\n",
      "Epoch 98/100\n",
      "375/375 [==============================] - 7s 18ms/step - loss: 0.4013 - acc: 0.8745 - val_loss: 0.4487 - val_acc: 0.8668\n",
      "Epoch 99/100\n",
      "375/375 [==============================] - 7s 17ms/step - loss: 0.4011 - acc: 0.8725 - val_loss: 0.4560 - val_acc: 0.8647\n",
      "Epoch 100/100\n",
      "375/375 [==============================] - 7s 18ms/step - loss: 0.3993 - acc: 0.8741 - val_loss: 0.4548 - val_acc: 0.8623\n"
     ]
    }
   ],
   "source": [
    "history2_3 = model_2_3.fit([x_sequence_train_tf], y_train, epochs = 100, batch_size = 128, validation_split = 0.2)"
   ]
  },
  {
   "cell_type": "code",
   "execution_count": 25,
   "id": "570df693",
   "metadata": {},
   "outputs": [
    {
     "data": {
      "image/png": "[encoded data removed]",
      "text/plain": [
       "<Figure size 432x288 with 1 Axes>"
      ]
     },
     "metadata": {
      "needs_background": "light"
     },
     "output_type": "display_data"
    }
   ],
   "source": [
    "graph(history2_3)"
   ]
  },
  {
   "cell_type": "code",
   "execution_count": 26,
   "id": "245a94c8",
   "metadata": {},
   "outputs": [
    {
     "name": "stdout",
     "output_type": "stream",
     "text": [
      "313/313 - 1s - loss: 0.4202 - acc: 0.8674\n"
     ]
    },
    {
     "data": {
      "text/plain": [
       "[0.4201706051826477, 0.8673999905586243]"
      ]
     },
     "execution_count": 26,
     "metadata": {},
     "output_type": "execute_result"
    }
   ],
   "source": [
    "model_2_3_eval = model_2_3.evaluate([x_sequence_test_tf], y_test, verbose=2)\n",
    "model_2_3_eval"
   ]
  }
 ],
 "metadata": {
  "kernelspec": {
   "display_name": "Python 3 (ipykernel)",
   "language": "python",
   "name": "python3"
  },
  "language_info": {
   "codemirror_mode": {
    "name": "ipython",
    "version": 3
   },
   "file_extension": ".py",
   "mimetype": "text/x-python",
   "name": "python",
   "nbconvert_exporter": "python",
   "pygments_lexer": "ipython3",
   "version": "3.8.10"
  }
 },
 "nbformat": 4,
 "nbformat_minor": 5
}
