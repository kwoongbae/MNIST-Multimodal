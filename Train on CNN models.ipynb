{
 "cells": [
  {
   "cell_type": "code",
   "execution_count": 1,
   "id": "11c528f0",
   "metadata": {},
   "outputs": [],
   "source": [
    "# 필요한 라이브러리들 불러오기\n",
    "import tensorflow as tf\n",
    "from tensorflow import keras\n",
    "from keras.models import Model\n",
    "from keras import layers\n",
    "from keras import Input\n",
    "import numpy as np\n",
    "import pickle\n",
    "import pandas as pd\n",
    "import matplotlib.pyplot as plt\n",
    "\n",
    "tf.random.set_seed(7)"
   ]
  },
  {
   "cell_type": "code",
   "execution_count": 2,
   "id": "64f8075f",
   "metadata": {},
   "outputs": [],
   "source": [
    "import os\n",
    "os.environ[\"CUDA_VISIBLE_DEVICES\"] = \"1\""
   ]
  },
  {
   "cell_type": "code",
   "execution_count": 3,
   "id": "76c1314a",
   "metadata": {},
   "outputs": [
    {
     "name": "stdout",
     "output_type": "stream",
     "text": [
      "(28, 28, 1)\n"
     ]
    },
    {
     "name": "stderr",
     "output_type": "stream",
     "text": [
      "2022-06-27 11:33:22.054492: I tensorflow/core/platform/cpu_feature_guard.cc:142] This TensorFlow binary is optimized with oneAPI Deep Neural Network Library (oneDNN) to use the following CPU instructions in performance-critical operations:  AVX2 AVX512F FMA\n",
      "To enable them in other operations, rebuild TensorFlow with the appropriate compiler flags.\n",
      "2022-06-27 11:33:22.408307: I tensorflow/core/common_runtime/gpu/gpu_device.cc:1510] Created device /job:localhost/replica:0/task:0/device:GPU:0 with 22360 MB memory:  -> device: 0, name: NVIDIA RTX A5000, pci bus id: 0000:18:00.0, compute capability: 8.6\n"
     ]
    },
    {
     "data": {
      "image/png": "[encoded data removed]",
      "text/plain": [
       "<Figure size 432x288 with 1 Axes>"
      ]
     },
     "metadata": {
      "needs_background": "light"
     },
     "output_type": "display_data"
    }
   ],
   "source": [
    "# cnn_input\n",
    "\n",
    "(x_image_train, _) , (x_image_test, _) = keras.datasets.mnist.load_data()\n",
    "x_image_train = x_image_train.astype(\"float32\") / 255\n",
    "x_image_test = x_image_test.astype(\"float32\") / 255\n",
    "\n",
    "x_image_train = np.expand_dims(x_image_train, -1)\n",
    "x_image_test = np.expand_dims(x_image_test, -1)\n",
    "\n",
    "\n",
    "sample = layers.GaussianNoise(0.9)\n",
    "x_image_train = sample(x_image_train, training = True)\n",
    "x_image_test = sample(x_image_test, training = True)\n",
    "plt.imshow(x_image_train[0])\n",
    "print(x_image_train[0].shape)"
   ]
  },
  {
   "cell_type": "code",
   "execution_count": 4,
   "id": "cb23d97d",
   "metadata": {},
   "outputs": [],
   "source": [
    "# 정답지 생성\n",
    "train_label_textfile = pd.read_csv('../trainlabels.txt',index_col=False)\n",
    "train_label = np.array(train_label_textfile)\n",
    "\n",
    "test_label_textfile = pd.read_csv('../testlabels.txt',index_col=False)\n",
    "test_label = np.array(test_label_textfile)\n",
    "\n",
    "y_train = tf.keras.utils.to_categorical(train_label, num_classes=10)\n",
    "y_test = tf.keras.utils.to_categorical(test_label, num_classes=10)"
   ]
  },
  {
   "cell_type": "code",
   "execution_count": 5,
   "id": "069d819a",
   "metadata": {},
   "outputs": [],
   "source": [
    "# 그래프 그려주는 함수\n",
    "from matplotlib import pyplot as plt\n",
    "\n",
    "def graph(history):\n",
    "    acc = history.history['acc']\n",
    "    val_acc = history.history['val_acc']\n",
    "    loss = history.history['loss']\n",
    "    val_loss = history.history['val_loss']\n",
    "    \n",
    "    epochs = range(1,len(acc)+1)\n",
    "    \n",
    "    plt.plot(epochs, acc, 'r',label = 'Training acc')\n",
    "    plt.plot(epochs, val_acc, 'b',label = 'Validation acc')\n",
    "    plt.title('Training and validation accuracy')\n",
    "    \n",
    "    plt.legend(loc='lower right')\n",
    "    plt.show()"
   ]
  },
  {
   "cell_type": "markdown",
   "id": "6e9bb6de",
   "metadata": {},
   "source": [
    "## 1-1. CNN1"
   ]
  },
  {
   "cell_type": "code",
   "execution_count": 6,
   "id": "ea99ed3e",
   "metadata": {},
   "outputs": [],
   "source": [
    "# cnn model 구성\n",
    "image_input = Input(shape = (28,28,1), dtype = 'float32', name = 'image_mnist')\n",
    "\n",
    "x = layers.Conv2D(32, kernel_size = (3,3), activation = 'relu')(image_input)\n",
    "x = layers.MaxPooling2D(pool_size = (2,2))(x)\n",
    "x = layers.Conv2D(64, kernel_size = (3,3), activation = 'relu')(x)\n",
    "x = layers.MaxPooling2D(pool_size = (2,2))(x)\n",
    "x = layers.Flatten()(x)\n",
    "image_output = layers.Dropout(0.5)(x)\n",
    "answer = layers.Dense(10, activation = 'softmax')(image_output)"
   ]
  },
  {
   "cell_type": "code",
   "execution_count": 7,
   "id": "922271d9",
   "metadata": {},
   "outputs": [],
   "source": [
    "cnn1 = Model([image_input], answer)\n",
    "cnn1.compile(optimizer = 'Adam', loss = 'categorical_crossentropy', metrics = ['acc'])"
   ]
  },
  {
   "cell_type": "code",
   "execution_count": 8,
   "id": "dab96b48",
   "metadata": {},
   "outputs": [
    {
     "name": "stdout",
     "output_type": "stream",
     "text": [
      "Model: \"model\"\n",
      "_________________________________________________________________\n",
      "Layer (type)                 Output Shape              Param #   \n",
      "=================================================================\n",
      "image_mnist (InputLayer)     [(None, 28, 28, 1)]       0         \n",
      "_________________________________________________________________\n",
      "conv2d (Conv2D)              (None, 26, 26, 32)        320       \n",
      "_________________________________________________________________\n",
      "max_pooling2d (MaxPooling2D) (None, 13, 13, 32)        0         \n",
      "_________________________________________________________________\n",
      "conv2d_1 (Conv2D)            (None, 11, 11, 64)        18496     \n",
      "_________________________________________________________________\n",
      "max_pooling2d_1 (MaxPooling2 (None, 5, 5, 64)          0         \n",
      "_________________________________________________________________\n",
      "flatten (Flatten)            (None, 1600)              0         \n",
      "_________________________________________________________________\n",
      "dropout (Dropout)            (None, 1600)              0         \n",
      "_________________________________________________________________\n",
      "dense (Dense)                (None, 10)                16010     \n",
      "=================================================================\n",
      "Total params: 34,826\n",
      "Trainable params: 34,826\n",
      "Non-trainable params: 0\n",
      "_________________________________________________________________\n"
     ]
    }
   ],
   "source": [
    "cnn1.summary()"
   ]
  },
  {
   "cell_type": "code",
   "execution_count": 9,
   "id": "b0d2d4bf",
   "metadata": {
    "scrolled": true
   },
   "outputs": [
    {
     "name": "stdout",
     "output_type": "stream",
     "text": [
      "Epoch 1/50\n"
     ]
    },
    {
     "name": "stderr",
     "output_type": "stream",
     "text": [
      "2022-06-27 11:33:23.004693: I tensorflow/compiler/mlir/mlir_graph_optimization_pass.cc:185] None of the MLIR Optimization Passes are enabled (registered 2)\n",
      "2022-06-27 11:33:23.853239: I tensorflow/stream_executor/cuda/cuda_dnn.cc:369] Loaded cuDNN version 8201\n",
      "2022-06-27 11:33:25.251481: I tensorflow/stream_executor/cuda/cuda_blas.cc:1760] TensorFloat-32 will be used for the matrix multiplication. This will only be logged once.\n"
     ]
    },
    {
     "name": "stdout",
     "output_type": "stream",
     "text": [
      "375/375 [==============================] - 5s 6ms/step - loss: 1.0268 - acc: 0.6522 - val_loss: 0.5510 - val_acc: 0.8288\n",
      "Epoch 2/50\n",
      "375/375 [==============================] - 2s 5ms/step - loss: 0.6132 - acc: 0.7954 - val_loss: 0.4617 - val_acc: 0.8513\n",
      "Epoch 3/50\n",
      "375/375 [==============================] - 2s 5ms/step - loss: 0.5563 - acc: 0.8152 - val_loss: 0.4359 - val_acc: 0.8587\n",
      "Epoch 4/50\n",
      "375/375 [==============================] - 2s 5ms/step - loss: 0.5275 - acc: 0.8244 - val_loss: 0.4263 - val_acc: 0.8631\n",
      "Epoch 5/50\n",
      "375/375 [==============================] - 2s 5ms/step - loss: 0.5116 - acc: 0.8271 - val_loss: 0.4215 - val_acc: 0.8607\n",
      "Epoch 6/50\n",
      "375/375 [==============================] - 2s 5ms/step - loss: 0.4995 - acc: 0.8335 - val_loss: 0.4097 - val_acc: 0.8682\n",
      "Epoch 7/50\n",
      "375/375 [==============================] - 2s 5ms/step - loss: 0.4933 - acc: 0.8363 - val_loss: 0.4088 - val_acc: 0.8656\n",
      "Epoch 8/50\n",
      "375/375 [==============================] - 2s 5ms/step - loss: 0.4897 - acc: 0.8375 - val_loss: 0.4015 - val_acc: 0.8693\n",
      "Epoch 9/50\n",
      "375/375 [==============================] - 2s 5ms/step - loss: 0.4798 - acc: 0.8392 - val_loss: 0.3960 - val_acc: 0.8724\n",
      "Epoch 10/50\n",
      "375/375 [==============================] - 2s 5ms/step - loss: 0.4777 - acc: 0.8382 - val_loss: 0.3995 - val_acc: 0.8703\n",
      "Epoch 11/50\n",
      "375/375 [==============================] - 2s 5ms/step - loss: 0.4712 - acc: 0.8421 - val_loss: 0.3939 - val_acc: 0.8713\n",
      "Epoch 12/50\n",
      "375/375 [==============================] - 2s 5ms/step - loss: 0.4693 - acc: 0.8434 - val_loss: 0.3885 - val_acc: 0.8733\n",
      "Epoch 13/50\n",
      "375/375 [==============================] - 2s 5ms/step - loss: 0.4655 - acc: 0.8437 - val_loss: 0.3934 - val_acc: 0.8726\n",
      "Epoch 14/50\n",
      "375/375 [==============================] - 2s 5ms/step - loss: 0.4620 - acc: 0.8447 - val_loss: 0.3890 - val_acc: 0.8733\n",
      "Epoch 15/50\n",
      "375/375 [==============================] - 2s 5ms/step - loss: 0.4590 - acc: 0.8469 - val_loss: 0.3883 - val_acc: 0.8749\n",
      "Epoch 16/50\n",
      "375/375 [==============================] - 2s 5ms/step - loss: 0.4578 - acc: 0.8457 - val_loss: 0.3854 - val_acc: 0.8758\n",
      "Epoch 17/50\n",
      "375/375 [==============================] - 2s 5ms/step - loss: 0.4601 - acc: 0.8456 - val_loss: 0.3839 - val_acc: 0.8737\n",
      "Epoch 18/50\n",
      "375/375 [==============================] - 2s 5ms/step - loss: 0.4511 - acc: 0.8485 - val_loss: 0.3866 - val_acc: 0.8746\n",
      "Epoch 19/50\n",
      "375/375 [==============================] - 2s 5ms/step - loss: 0.4533 - acc: 0.8486 - val_loss: 0.3860 - val_acc: 0.8737\n",
      "Epoch 20/50\n",
      "375/375 [==============================] - 2s 5ms/step - loss: 0.4467 - acc: 0.8500 - val_loss: 0.3826 - val_acc: 0.8746\n",
      "Epoch 21/50\n",
      "375/375 [==============================] - 2s 5ms/step - loss: 0.4516 - acc: 0.8479 - val_loss: 0.3869 - val_acc: 0.8730\n",
      "Epoch 22/50\n",
      "375/375 [==============================] - 2s 5ms/step - loss: 0.4435 - acc: 0.8510 - val_loss: 0.3875 - val_acc: 0.8746\n",
      "Epoch 23/50\n",
      "375/375 [==============================] - 2s 5ms/step - loss: 0.4418 - acc: 0.8517 - val_loss: 0.3843 - val_acc: 0.8743\n",
      "Epoch 24/50\n",
      "375/375 [==============================] - 2s 5ms/step - loss: 0.4406 - acc: 0.8507 - val_loss: 0.3840 - val_acc: 0.8752\n",
      "Epoch 25/50\n",
      "375/375 [==============================] - 2s 5ms/step - loss: 0.4399 - acc: 0.8535 - val_loss: 0.3866 - val_acc: 0.8763\n",
      "Epoch 26/50\n",
      "375/375 [==============================] - 2s 5ms/step - loss: 0.4349 - acc: 0.8535 - val_loss: 0.3858 - val_acc: 0.8742\n",
      "Epoch 27/50\n",
      "375/375 [==============================] - 2s 5ms/step - loss: 0.4386 - acc: 0.8534 - val_loss: 0.3818 - val_acc: 0.8743\n",
      "Epoch 28/50\n",
      "375/375 [==============================] - 2s 5ms/step - loss: 0.4364 - acc: 0.8525 - val_loss: 0.3885 - val_acc: 0.8729\n",
      "Epoch 29/50\n",
      "375/375 [==============================] - 2s 5ms/step - loss: 0.4345 - acc: 0.8524 - val_loss: 0.3877 - val_acc: 0.8738\n",
      "Epoch 30/50\n",
      "375/375 [==============================] - 2s 5ms/step - loss: 0.4273 - acc: 0.8521 - val_loss: 0.3805 - val_acc: 0.8749\n",
      "Epoch 31/50\n",
      "375/375 [==============================] - 2s 5ms/step - loss: 0.4269 - acc: 0.8547 - val_loss: 0.3864 - val_acc: 0.8733\n",
      "Epoch 32/50\n",
      "375/375 [==============================] - 2s 5ms/step - loss: 0.4305 - acc: 0.8541 - val_loss: 0.3833 - val_acc: 0.8750\n",
      "Epoch 33/50\n",
      "375/375 [==============================] - 2s 5ms/step - loss: 0.4234 - acc: 0.8554 - val_loss: 0.3835 - val_acc: 0.8734\n",
      "Epoch 34/50\n",
      "375/375 [==============================] - 2s 5ms/step - loss: 0.4245 - acc: 0.8555 - val_loss: 0.3831 - val_acc: 0.8766\n",
      "Epoch 35/50\n",
      "375/375 [==============================] - 2s 5ms/step - loss: 0.4271 - acc: 0.8559 - val_loss: 0.3821 - val_acc: 0.8758\n",
      "Epoch 36/50\n",
      "375/375 [==============================] - 2s 5ms/step - loss: 0.4223 - acc: 0.8570 - val_loss: 0.3804 - val_acc: 0.8750\n",
      "Epoch 37/50\n",
      "375/375 [==============================] - 2s 5ms/step - loss: 0.4199 - acc: 0.8564 - val_loss: 0.3855 - val_acc: 0.8745\n",
      "Epoch 38/50\n",
      "375/375 [==============================] - 2s 5ms/step - loss: 0.4222 - acc: 0.8562 - val_loss: 0.3832 - val_acc: 0.8755\n",
      "Epoch 39/50\n",
      "375/375 [==============================] - 2s 5ms/step - loss: 0.4223 - acc: 0.8551 - val_loss: 0.3805 - val_acc: 0.8776\n",
      "Epoch 40/50\n",
      "375/375 [==============================] - 2s 5ms/step - loss: 0.4206 - acc: 0.8573 - val_loss: 0.3824 - val_acc: 0.8749\n",
      "Epoch 41/50\n",
      "375/375 [==============================] - 2s 5ms/step - loss: 0.4115 - acc: 0.8602 - val_loss: 0.3832 - val_acc: 0.8751\n",
      "Epoch 42/50\n",
      "375/375 [==============================] - 2s 5ms/step - loss: 0.4186 - acc: 0.8565 - val_loss: 0.3818 - val_acc: 0.8734\n",
      "Epoch 43/50\n",
      "375/375 [==============================] - 2s 5ms/step - loss: 0.4167 - acc: 0.8584 - val_loss: 0.3760 - val_acc: 0.8773\n",
      "Epoch 44/50\n",
      "375/375 [==============================] - 2s 5ms/step - loss: 0.4123 - acc: 0.8588 - val_loss: 0.3853 - val_acc: 0.8739\n",
      "Epoch 45/50\n",
      "375/375 [==============================] - 2s 5ms/step - loss: 0.4119 - acc: 0.8596 - val_loss: 0.3868 - val_acc: 0.8748\n",
      "Epoch 46/50\n",
      "375/375 [==============================] - 2s 5ms/step - loss: 0.4124 - acc: 0.8597 - val_loss: 0.3874 - val_acc: 0.8738\n",
      "Epoch 47/50\n",
      "375/375 [==============================] - 2s 5ms/step - loss: 0.4132 - acc: 0.8610 - val_loss: 0.3856 - val_acc: 0.8729\n",
      "Epoch 48/50\n",
      "375/375 [==============================] - 2s 5ms/step - loss: 0.4094 - acc: 0.8598 - val_loss: 0.3787 - val_acc: 0.8751\n",
      "Epoch 49/50\n",
      "375/375 [==============================] - 2s 5ms/step - loss: 0.4062 - acc: 0.8617 - val_loss: 0.3831 - val_acc: 0.8752\n",
      "Epoch 50/50\n",
      "375/375 [==============================] - 2s 5ms/step - loss: 0.4041 - acc: 0.8607 - val_loss: 0.3830 - val_acc: 0.8721\n"
     ]
    }
   ],
   "source": [
    "history1_1 = cnn1.fit([x_image_train], y_train, epochs = 50, batch_size = 128, validation_split = 0.2)"
   ]
  },
  {
   "cell_type": "code",
   "execution_count": 10,
   "id": "3176957d",
   "metadata": {},
   "outputs": [
    {
     "data": {
      "image/png": "[encoded data removed]",
      "text/plain": [
       "<Figure size 432x288 with 1 Axes>"
      ]
     },
     "metadata": {
      "needs_background": "light"
     },
     "output_type": "display_data"
    }
   ],
   "source": [
    "graph(history1_1)"
   ]
  },
  {
   "cell_type": "code",
   "execution_count": 11,
   "id": "2837a7ff",
   "metadata": {},
   "outputs": [
    {
     "name": "stdout",
     "output_type": "stream",
     "text": [
      "313/313 - 1s - loss: 0.3783 - acc: 0.8763\n"
     ]
    },
    {
     "data": {
      "text/plain": [
       "[0.3782758116722107, 0.8762999773025513]"
      ]
     },
     "execution_count": 11,
     "metadata": {},
     "output_type": "execute_result"
    }
   ],
   "source": [
    "cnn1.evaluate([x_image_test], y_test, verbose=2)"
   ]
  },
  {
   "cell_type": "markdown",
   "id": "a434a5d0",
   "metadata": {},
   "source": [
    "## 1-2 CNN2"
   ]
  },
  {
   "cell_type": "code",
   "execution_count": 12,
   "id": "afbdb63f",
   "metadata": {},
   "outputs": [],
   "source": [
    "# 모델구성\n",
    "# cnn model 구성 with lenet\n",
    "image_input = Input(shape = (28,28,1), dtype = 'float32', name = 'image_mnist')\n",
    "\n",
    "x = layers.Conv2D(20, kernel_size = 5, padding = 'same')(image_input)\n",
    "x = layers.Activation(\"relu\")(x)\n",
    "x = layers.MaxPooling2D(pool_size = (2,2), strides = (2,2))(x)\n",
    "x = layers.Conv2D(50, kernel_size = 5, padding = 'same')(x)\n",
    "x = layers.Activation(\"relu\")(x)\n",
    "x = layers.MaxPooling2D(pool_size = (2,2), strides = (2,2))(x)\n",
    "x = layers.Flatten()(x)\n",
    "x = layers.Dense(500)(x)\n",
    "x = layers.Activation(\"relu\")(x)\n",
    "x = layers.Dropout(0.5)(x)\n",
    "answer = layers.Dense(10, activation = 'softmax')(x)"
   ]
  },
  {
   "cell_type": "code",
   "execution_count": 13,
   "id": "e81656fe",
   "metadata": {},
   "outputs": [],
   "source": [
    "# 컴파일\n",
    "\n",
    "cnn2 = Model([image_input], answer)\n",
    "cnn2.compile(optimizer = 'Adam', loss = 'categorical_crossentropy', metrics = ['acc'])"
   ]
  },
  {
   "cell_type": "code",
   "execution_count": 14,
   "id": "c79211d2",
   "metadata": {},
   "outputs": [
    {
     "name": "stdout",
     "output_type": "stream",
     "text": [
      "Model: \"model_1\"\n",
      "_________________________________________________________________\n",
      "Layer (type)                 Output Shape              Param #   \n",
      "=================================================================\n",
      "image_mnist (InputLayer)     [(None, 28, 28, 1)]       0         \n",
      "_________________________________________________________________\n",
      "conv2d_2 (Conv2D)            (None, 28, 28, 20)        520       \n",
      "_________________________________________________________________\n",
      "activation (Activation)      (None, 28, 28, 20)        0         \n",
      "_________________________________________________________________\n",
      "max_pooling2d_2 (MaxPooling2 (None, 14, 14, 20)        0         \n",
      "_________________________________________________________________\n",
      "conv2d_3 (Conv2D)            (None, 14, 14, 50)        25050     \n",
      "_________________________________________________________________\n",
      "activation_1 (Activation)    (None, 14, 14, 50)        0         \n",
      "_________________________________________________________________\n",
      "max_pooling2d_3 (MaxPooling2 (None, 7, 7, 50)          0         \n",
      "_________________________________________________________________\n",
      "flatten_1 (Flatten)          (None, 2450)              0         \n",
      "_________________________________________________________________\n",
      "dense_1 (Dense)              (None, 500)               1225500   \n",
      "_________________________________________________________________\n",
      "activation_2 (Activation)    (None, 500)               0         \n",
      "_________________________________________________________________\n",
      "dropout_1 (Dropout)          (None, 500)               0         \n",
      "_________________________________________________________________\n",
      "dense_2 (Dense)              (None, 10)                5010      \n",
      "=================================================================\n",
      "Total params: 1,256,080\n",
      "Trainable params: 1,256,080\n",
      "Non-trainable params: 0\n",
      "_________________________________________________________________\n"
     ]
    }
   ],
   "source": [
    "# summary()\n",
    "cnn2.summary()"
   ]
  },
  {
   "cell_type": "code",
   "execution_count": 15,
   "id": "e980408f",
   "metadata": {},
   "outputs": [
    {
     "name": "stdout",
     "output_type": "stream",
     "text": [
      "Epoch 1/50\n",
      "375/375 [==============================] - 2s 6ms/step - loss: 0.8487 - acc: 0.7121 - val_loss: 0.4395 - val_acc: 0.8570\n",
      "Epoch 2/50\n",
      "375/375 [==============================] - 2s 5ms/step - loss: 0.4603 - acc: 0.8465 - val_loss: 0.3876 - val_acc: 0.8703\n",
      "Epoch 3/50\n",
      "375/375 [==============================] - 2s 5ms/step - loss: 0.3962 - acc: 0.8682 - val_loss: 0.3572 - val_acc: 0.8813\n",
      "Epoch 4/50\n",
      "375/375 [==============================] - 2s 5ms/step - loss: 0.3527 - acc: 0.8819 - val_loss: 0.3488 - val_acc: 0.8853\n",
      "Epoch 5/50\n",
      "375/375 [==============================] - 2s 5ms/step - loss: 0.3229 - acc: 0.8911 - val_loss: 0.3445 - val_acc: 0.8875\n",
      "Epoch 6/50\n",
      "375/375 [==============================] - 2s 5ms/step - loss: 0.2930 - acc: 0.9009 - val_loss: 0.3592 - val_acc: 0.8839\n",
      "Epoch 7/50\n",
      "375/375 [==============================] - 2s 5ms/step - loss: 0.2699 - acc: 0.9094 - val_loss: 0.3444 - val_acc: 0.8890\n",
      "Epoch 8/50\n",
      "375/375 [==============================] - 2s 5ms/step - loss: 0.2482 - acc: 0.9152 - val_loss: 0.3486 - val_acc: 0.8883\n",
      "Epoch 9/50\n",
      "375/375 [==============================] - 2s 5ms/step - loss: 0.2255 - acc: 0.9212 - val_loss: 0.3523 - val_acc: 0.8891\n",
      "Epoch 10/50\n",
      "375/375 [==============================] - 2s 5ms/step - loss: 0.2055 - acc: 0.9295 - val_loss: 0.3737 - val_acc: 0.8867\n",
      "Epoch 11/50\n",
      "375/375 [==============================] - 2s 5ms/step - loss: 0.1870 - acc: 0.9351 - val_loss: 0.3876 - val_acc: 0.8869\n",
      "Epoch 12/50\n",
      "375/375 [==============================] - 2s 5ms/step - loss: 0.1704 - acc: 0.9394 - val_loss: 0.4006 - val_acc: 0.8859\n",
      "Epoch 13/50\n",
      "375/375 [==============================] - 2s 5ms/step - loss: 0.1549 - acc: 0.9457 - val_loss: 0.4136 - val_acc: 0.8847\n",
      "Epoch 14/50\n",
      "375/375 [==============================] - 2s 5ms/step - loss: 0.1393 - acc: 0.9500 - val_loss: 0.4264 - val_acc: 0.8835\n",
      "Epoch 15/50\n",
      "375/375 [==============================] - 2s 5ms/step - loss: 0.1312 - acc: 0.9533 - val_loss: 0.4477 - val_acc: 0.8853\n",
      "Epoch 16/50\n",
      "375/375 [==============================] - 2s 5ms/step - loss: 0.1170 - acc: 0.9584 - val_loss: 0.4746 - val_acc: 0.8776\n",
      "Epoch 17/50\n",
      "375/375 [==============================] - 2s 5ms/step - loss: 0.1129 - acc: 0.9604 - val_loss: 0.4911 - val_acc: 0.8823\n",
      "Epoch 18/50\n",
      "375/375 [==============================] - 2s 5ms/step - loss: 0.1019 - acc: 0.9642 - val_loss: 0.4997 - val_acc: 0.8810\n",
      "Epoch 19/50\n",
      "375/375 [==============================] - 2s 5ms/step - loss: 0.0967 - acc: 0.9656 - val_loss: 0.5085 - val_acc: 0.8865\n",
      "Epoch 20/50\n",
      "375/375 [==============================] - 2s 5ms/step - loss: 0.0918 - acc: 0.9670 - val_loss: 0.5400 - val_acc: 0.8834\n",
      "Epoch 21/50\n",
      "375/375 [==============================] - 2s 5ms/step - loss: 0.0853 - acc: 0.9697 - val_loss: 0.5572 - val_acc: 0.8819\n",
      "Epoch 22/50\n",
      "375/375 [==============================] - 2s 5ms/step - loss: 0.0815 - acc: 0.9714 - val_loss: 0.5857 - val_acc: 0.8798\n",
      "Epoch 23/50\n",
      "375/375 [==============================] - 2s 5ms/step - loss: 0.0829 - acc: 0.9709 - val_loss: 0.5625 - val_acc: 0.8830\n",
      "Epoch 24/50\n",
      "375/375 [==============================] - 2s 5ms/step - loss: 0.0804 - acc: 0.9721 - val_loss: 0.6005 - val_acc: 0.8800\n",
      "Epoch 25/50\n",
      "375/375 [==============================] - 2s 5ms/step - loss: 0.0729 - acc: 0.9740 - val_loss: 0.6092 - val_acc: 0.8784\n",
      "Epoch 26/50\n",
      "375/375 [==============================] - 2s 5ms/step - loss: 0.0735 - acc: 0.9741 - val_loss: 0.6285 - val_acc: 0.8809\n",
      "Epoch 27/50\n",
      "375/375 [==============================] - 2s 5ms/step - loss: 0.0676 - acc: 0.9750 - val_loss: 0.6602 - val_acc: 0.8798\n",
      "Epoch 28/50\n",
      "375/375 [==============================] - 2s 5ms/step - loss: 0.0666 - acc: 0.9768 - val_loss: 0.6673 - val_acc: 0.8805\n",
      "Epoch 29/50\n",
      "375/375 [==============================] - 2s 5ms/step - loss: 0.0652 - acc: 0.9770 - val_loss: 0.6616 - val_acc: 0.8774\n",
      "Epoch 30/50\n",
      "375/375 [==============================] - 2s 5ms/step - loss: 0.0607 - acc: 0.9784 - val_loss: 0.6990 - val_acc: 0.8819\n",
      "Epoch 31/50\n",
      "375/375 [==============================] - 2s 5ms/step - loss: 0.0632 - acc: 0.9783 - val_loss: 0.7148 - val_acc: 0.8785\n",
      "Epoch 32/50\n",
      "375/375 [==============================] - 2s 5ms/step - loss: 0.0594 - acc: 0.9790 - val_loss: 0.6673 - val_acc: 0.8802\n",
      "Epoch 33/50\n",
      "375/375 [==============================] - 2s 5ms/step - loss: 0.0575 - acc: 0.9793 - val_loss: 0.6994 - val_acc: 0.8790\n",
      "Epoch 34/50\n",
      "375/375 [==============================] - 2s 5ms/step - loss: 0.0584 - acc: 0.9794 - val_loss: 0.7250 - val_acc: 0.8760\n",
      "Epoch 35/50\n",
      "375/375 [==============================] - 2s 5ms/step - loss: 0.0556 - acc: 0.9805 - val_loss: 0.7475 - val_acc: 0.8806\n",
      "Epoch 36/50\n",
      "375/375 [==============================] - 2s 5ms/step - loss: 0.0532 - acc: 0.9818 - val_loss: 0.7189 - val_acc: 0.8808\n",
      "Epoch 37/50\n",
      "375/375 [==============================] - 2s 5ms/step - loss: 0.0553 - acc: 0.9801 - val_loss: 0.7455 - val_acc: 0.8808\n",
      "Epoch 38/50\n",
      "375/375 [==============================] - 2s 5ms/step - loss: 0.0563 - acc: 0.9809 - val_loss: 0.7387 - val_acc: 0.8807\n",
      "Epoch 39/50\n",
      "375/375 [==============================] - 2s 5ms/step - loss: 0.0523 - acc: 0.9816 - val_loss: 0.7555 - val_acc: 0.8789\n",
      "Epoch 40/50\n",
      "375/375 [==============================] - 2s 5ms/step - loss: 0.0502 - acc: 0.9832 - val_loss: 0.7553 - val_acc: 0.8810\n",
      "Epoch 41/50\n",
      "375/375 [==============================] - 2s 5ms/step - loss: 0.0527 - acc: 0.9817 - val_loss: 0.7469 - val_acc: 0.8799\n",
      "Epoch 42/50\n",
      "375/375 [==============================] - 2s 5ms/step - loss: 0.0489 - acc: 0.9829 - val_loss: 0.7773 - val_acc: 0.8792\n",
      "Epoch 43/50\n",
      "375/375 [==============================] - 2s 5ms/step - loss: 0.0487 - acc: 0.9838 - val_loss: 0.8182 - val_acc: 0.8791\n",
      "Epoch 44/50\n",
      "375/375 [==============================] - 2s 5ms/step - loss: 0.0492 - acc: 0.9826 - val_loss: 0.8245 - val_acc: 0.8794\n",
      "Epoch 45/50\n",
      "375/375 [==============================] - 2s 5ms/step - loss: 0.0466 - acc: 0.9841 - val_loss: 0.8376 - val_acc: 0.8760\n",
      "Epoch 46/50\n",
      "375/375 [==============================] - 2s 5ms/step - loss: 0.0487 - acc: 0.9830 - val_loss: 0.7579 - val_acc: 0.8799\n",
      "Epoch 47/50\n",
      "375/375 [==============================] - 2s 5ms/step - loss: 0.0469 - acc: 0.9833 - val_loss: 0.8454 - val_acc: 0.8790\n",
      "Epoch 48/50\n",
      "375/375 [==============================] - 2s 5ms/step - loss: 0.0476 - acc: 0.9836 - val_loss: 0.8331 - val_acc: 0.8763\n",
      "Epoch 49/50\n",
      "375/375 [==============================] - 2s 5ms/step - loss: 0.0443 - acc: 0.9850 - val_loss: 0.8356 - val_acc: 0.8772\n",
      "Epoch 50/50\n",
      "375/375 [==============================] - 2s 5ms/step - loss: 0.0459 - acc: 0.9837 - val_loss: 0.8252 - val_acc: 0.8774\n"
     ]
    }
   ],
   "source": [
    "# 학습\n",
    "history1_2 = cnn2.fit([x_image_train], y_train, epochs = 50, batch_size = 128, validation_split = 0.2)"
   ]
  },
  {
   "cell_type": "code",
   "execution_count": 16,
   "id": "2ccae8c4",
   "metadata": {},
   "outputs": [
    {
     "data": {
      "image/png": "[encoded data removed]",
      "text/plain": [
       "<Figure size 432x288 with 1 Axes>"
      ]
     },
     "metadata": {
      "needs_background": "light"
     },
     "output_type": "display_data"
    }
   ],
   "source": [
    "# 그래프\n",
    "graph(history1_2)"
   ]
  },
  {
   "cell_type": "code",
   "execution_count": 17,
   "id": "87c6c282",
   "metadata": {},
   "outputs": [
    {
     "name": "stdout",
     "output_type": "stream",
     "text": [
      "313/313 - 1s - loss: 0.7837 - acc: 0.8806\n"
     ]
    },
    {
     "data": {
      "text/plain": [
       "[0.783677875995636, 0.8805999755859375]"
      ]
     },
     "execution_count": 17,
     "metadata": {},
     "output_type": "execute_result"
    }
   ],
   "source": [
    "# evaluate\n",
    "cnn2.evaluate([x_image_test], y_test, verbose=2)"
   ]
  },
  {
   "cell_type": "markdown",
   "id": "de0cd59f",
   "metadata": {},
   "source": [
    "## 1-3 CNN3"
   ]
  },
  {
   "cell_type": "code",
   "execution_count": 18,
   "id": "2f5f417b",
   "metadata": {},
   "outputs": [],
   "source": [
    "# cnn model 구성 with lenet\n",
    "image_input = Input(shape = (28,28,1), dtype = 'float32', name = 'image_mnist')\n",
    "\n",
    "x = layers.Conv2D(20, kernel_size = 5, padding = 'same')(image_input)\n",
    "x = layers.Activation(\"relu\")(x)\n",
    "x = layers.MaxPooling2D(pool_size = (2,2), strides = (2,2))(x)\n",
    "x = layers.Conv2D(50, kernel_size = 5, padding = 'same')(x)\n",
    "x = layers.Activation(\"relu\")(x)\n",
    "x = layers.MaxPooling2D(pool_size = (2,2), strides = (2,2))(x)\n",
    "x = layers.Conv2D(100, kernel_size = 5, padding = 'same')(x)\n",
    "x = layers.Activation(\"relu\")(x)\n",
    "x = layers.MaxPooling2D(pool_size = (2,2), strides = (2,2))(x)\n",
    "x = layers.Flatten()(x)\n",
    "x = layers.Dense(500)(x)\n",
    "x = layers.Activation(\"relu\")(x)\n",
    "x = layers.Dense(1000)(x)\n",
    "x = layers.Activation(\"relu\")(x)\n",
    "x = layers.Dense(250)(x)\n",
    "x = layers.Activation(\"relu\")(x)\n",
    "x = layers.Dropout(0.5)(x)\n",
    "answer = layers.Dense(10, activation = 'softmax')(x)\n",
    "\n"
   ]
  },
  {
   "cell_type": "code",
   "execution_count": 19,
   "id": "22edafce",
   "metadata": {},
   "outputs": [],
   "source": [
    "cnn3 = Model([image_input], answer)\n",
    "cnn3.compile(optimizer = 'Adam', loss = 'categorical_crossentropy', metrics = ['acc'])"
   ]
  },
  {
   "cell_type": "code",
   "execution_count": 20,
   "id": "4e4c5baa",
   "metadata": {},
   "outputs": [
    {
     "name": "stdout",
     "output_type": "stream",
     "text": [
      "Model: \"model_2\"\n",
      "_________________________________________________________________\n",
      "Layer (type)                 Output Shape              Param #   \n",
      "=================================================================\n",
      "image_mnist (InputLayer)     [(None, 28, 28, 1)]       0         \n",
      "_________________________________________________________________\n",
      "conv2d_4 (Conv2D)            (None, 28, 28, 20)        520       \n",
      "_________________________________________________________________\n",
      "activation_3 (Activation)    (None, 28, 28, 20)        0         \n",
      "_________________________________________________________________\n",
      "max_pooling2d_4 (MaxPooling2 (None, 14, 14, 20)        0         \n",
      "_________________________________________________________________\n",
      "conv2d_5 (Conv2D)            (None, 14, 14, 50)        25050     \n",
      "_________________________________________________________________\n",
      "activation_4 (Activation)    (None, 14, 14, 50)        0         \n",
      "_________________________________________________________________\n",
      "max_pooling2d_5 (MaxPooling2 (None, 7, 7, 50)          0         \n",
      "_________________________________________________________________\n",
      "conv2d_6 (Conv2D)            (None, 7, 7, 100)         125100    \n",
      "_________________________________________________________________\n",
      "activation_5 (Activation)    (None, 7, 7, 100)         0         \n",
      "_________________________________________________________________\n",
      "max_pooling2d_6 (MaxPooling2 (None, 3, 3, 100)         0         \n",
      "_________________________________________________________________\n",
      "flatten_2 (Flatten)          (None, 900)               0         \n",
      "_________________________________________________________________\n",
      "dense_3 (Dense)              (None, 500)               450500    \n",
      "_________________________________________________________________\n",
      "activation_6 (Activation)    (None, 500)               0         \n",
      "_________________________________________________________________\n",
      "dense_4 (Dense)              (None, 1000)              501000    \n",
      "_________________________________________________________________\n",
      "activation_7 (Activation)    (None, 1000)              0         \n",
      "_________________________________________________________________\n",
      "dense_5 (Dense)              (None, 250)               250250    \n",
      "_________________________________________________________________\n",
      "activation_8 (Activation)    (None, 250)               0         \n",
      "_________________________________________________________________\n",
      "dropout_2 (Dropout)          (None, 250)               0         \n",
      "_________________________________________________________________\n",
      "dense_6 (Dense)              (None, 10)                2510      \n",
      "=================================================================\n",
      "Total params: 1,354,930\n",
      "Trainable params: 1,354,930\n",
      "Non-trainable params: 0\n",
      "_________________________________________________________________\n"
     ]
    }
   ],
   "source": [
    "cnn3.summary()"
   ]
  },
  {
   "cell_type": "code",
   "execution_count": 21,
   "id": "0cedaf25",
   "metadata": {},
   "outputs": [
    {
     "name": "stdout",
     "output_type": "stream",
     "text": [
      "Epoch 1/50\n",
      "375/375 [==============================] - 3s 8ms/step - loss: 0.9522 - acc: 0.6780 - val_loss: 0.4917 - val_acc: 0.8395\n",
      "Epoch 2/50\n",
      "375/375 [==============================] - 3s 7ms/step - loss: 0.4727 - acc: 0.8500 - val_loss: 0.4212 - val_acc: 0.8627\n",
      "Epoch 3/50\n",
      "375/375 [==============================] - 3s 7ms/step - loss: 0.3920 - acc: 0.8760 - val_loss: 0.4139 - val_acc: 0.8699\n",
      "Epoch 4/50\n",
      "375/375 [==============================] - 3s 7ms/step - loss: 0.3393 - acc: 0.8916 - val_loss: 0.3967 - val_acc: 0.8733\n",
      "Epoch 5/50\n",
      "375/375 [==============================] - 3s 7ms/step - loss: 0.3007 - acc: 0.9028 - val_loss: 0.3995 - val_acc: 0.8763\n",
      "Epoch 6/50\n",
      "375/375 [==============================] - 3s 7ms/step - loss: 0.2642 - acc: 0.9130 - val_loss: 0.3964 - val_acc: 0.8791\n",
      "Epoch 7/50\n",
      "375/375 [==============================] - 3s 7ms/step - loss: 0.2280 - acc: 0.9236 - val_loss: 0.4106 - val_acc: 0.8775\n",
      "Epoch 8/50\n",
      "375/375 [==============================] - 3s 7ms/step - loss: 0.2034 - acc: 0.9326 - val_loss: 0.4459 - val_acc: 0.8763\n",
      "Epoch 9/50\n",
      "375/375 [==============================] - 3s 7ms/step - loss: 0.1735 - acc: 0.9420 - val_loss: 0.4817 - val_acc: 0.8712\n",
      "Epoch 10/50\n",
      "375/375 [==============================] - 3s 7ms/step - loss: 0.1485 - acc: 0.9498 - val_loss: 0.4970 - val_acc: 0.8697\n",
      "Epoch 11/50\n",
      "375/375 [==============================] - 3s 7ms/step - loss: 0.1308 - acc: 0.9552 - val_loss: 0.5417 - val_acc: 0.8755\n",
      "Epoch 12/50\n",
      "375/375 [==============================] - 3s 7ms/step - loss: 0.1155 - acc: 0.9609 - val_loss: 0.6014 - val_acc: 0.8748\n",
      "Epoch 13/50\n",
      "375/375 [==============================] - 3s 7ms/step - loss: 0.0970 - acc: 0.9672 - val_loss: 0.6496 - val_acc: 0.8712\n",
      "Epoch 14/50\n",
      "375/375 [==============================] - 3s 7ms/step - loss: 0.0828 - acc: 0.9714 - val_loss: 0.6907 - val_acc: 0.8721\n",
      "Epoch 15/50\n",
      "375/375 [==============================] - 3s 7ms/step - loss: 0.0690 - acc: 0.9758 - val_loss: 0.7208 - val_acc: 0.8692\n",
      "Epoch 16/50\n",
      "375/375 [==============================] - 3s 7ms/step - loss: 0.0698 - acc: 0.9765 - val_loss: 0.7736 - val_acc: 0.8757\n",
      "Epoch 17/50\n",
      "375/375 [==============================] - 3s 7ms/step - loss: 0.0595 - acc: 0.9796 - val_loss: 0.7985 - val_acc: 0.8717\n",
      "Epoch 18/50\n",
      "375/375 [==============================] - 3s 7ms/step - loss: 0.0641 - acc: 0.9788 - val_loss: 0.8275 - val_acc: 0.8668\n",
      "Epoch 19/50\n",
      "375/375 [==============================] - 3s 7ms/step - loss: 0.0513 - acc: 0.9833 - val_loss: 0.9230 - val_acc: 0.8684\n",
      "Epoch 20/50\n",
      "375/375 [==============================] - 3s 7ms/step - loss: 0.0512 - acc: 0.9831 - val_loss: 0.9334 - val_acc: 0.8672\n",
      "Epoch 21/50\n",
      "375/375 [==============================] - 3s 7ms/step - loss: 0.0493 - acc: 0.9831 - val_loss: 0.9029 - val_acc: 0.8723\n",
      "Epoch 22/50\n",
      "375/375 [==============================] - 3s 7ms/step - loss: 0.0411 - acc: 0.9869 - val_loss: 1.0072 - val_acc: 0.8677\n",
      "Epoch 23/50\n",
      "375/375 [==============================] - 3s 7ms/step - loss: 0.0446 - acc: 0.9857 - val_loss: 0.9348 - val_acc: 0.8705\n",
      "Epoch 24/50\n",
      "375/375 [==============================] - 3s 7ms/step - loss: 0.0433 - acc: 0.9859 - val_loss: 1.0495 - val_acc: 0.8713\n",
      "Epoch 25/50\n",
      "375/375 [==============================] - 3s 7ms/step - loss: 0.0382 - acc: 0.9879 - val_loss: 1.0682 - val_acc: 0.8663\n",
      "Epoch 26/50\n",
      "375/375 [==============================] - 3s 7ms/step - loss: 0.0407 - acc: 0.9862 - val_loss: 1.1153 - val_acc: 0.8711\n",
      "Epoch 27/50\n",
      "375/375 [==============================] - 3s 7ms/step - loss: 0.0413 - acc: 0.9870 - val_loss: 0.9809 - val_acc: 0.8712\n",
      "Epoch 28/50\n",
      "375/375 [==============================] - 3s 7ms/step - loss: 0.0350 - acc: 0.9879 - val_loss: 1.0485 - val_acc: 0.8654\n",
      "Epoch 29/50\n",
      "375/375 [==============================] - 3s 7ms/step - loss: 0.0387 - acc: 0.9874 - val_loss: 1.1205 - val_acc: 0.8637\n",
      "Epoch 30/50\n",
      "375/375 [==============================] - 3s 7ms/step - loss: 0.0356 - acc: 0.9894 - val_loss: 1.1932 - val_acc: 0.8641\n",
      "Epoch 31/50\n",
      "375/375 [==============================] - 3s 7ms/step - loss: 0.0399 - acc: 0.9876 - val_loss: 1.0629 - val_acc: 0.8687\n",
      "Epoch 32/50\n",
      "375/375 [==============================] - 3s 7ms/step - loss: 0.0350 - acc: 0.9893 - val_loss: 1.2397 - val_acc: 0.8660\n",
      "Epoch 33/50\n",
      "375/375 [==============================] - 3s 7ms/step - loss: 0.0317 - acc: 0.9902 - val_loss: 1.1999 - val_acc: 0.8741\n",
      "Epoch 34/50\n",
      "375/375 [==============================] - 3s 7ms/step - loss: 0.0333 - acc: 0.9896 - val_loss: 1.2574 - val_acc: 0.8624\n",
      "Epoch 35/50\n",
      "375/375 [==============================] - 3s 7ms/step - loss: 0.0393 - acc: 0.9882 - val_loss: 1.1218 - val_acc: 0.8641\n",
      "Epoch 36/50\n",
      "375/375 [==============================] - 3s 7ms/step - loss: 0.0307 - acc: 0.9899 - val_loss: 1.2062 - val_acc: 0.8652\n",
      "Epoch 37/50\n",
      "375/375 [==============================] - 3s 7ms/step - loss: 0.0344 - acc: 0.9906 - val_loss: 1.1480 - val_acc: 0.8667\n",
      "Epoch 38/50\n",
      "375/375 [==============================] - 3s 7ms/step - loss: 0.0317 - acc: 0.9901 - val_loss: 1.3054 - val_acc: 0.8682\n",
      "Epoch 39/50\n",
      "375/375 [==============================] - 3s 7ms/step - loss: 0.0329 - acc: 0.9904 - val_loss: 1.2118 - val_acc: 0.8649\n",
      "Epoch 40/50\n",
      "375/375 [==============================] - 3s 7ms/step - loss: 0.0280 - acc: 0.9919 - val_loss: 1.3380 - val_acc: 0.8724\n",
      "Epoch 41/50\n",
      "375/375 [==============================] - 3s 7ms/step - loss: 0.0308 - acc: 0.9912 - val_loss: 1.2187 - val_acc: 0.8645\n",
      "Epoch 42/50\n",
      "375/375 [==============================] - 3s 7ms/step - loss: 0.0317 - acc: 0.9905 - val_loss: 1.3542 - val_acc: 0.8674\n",
      "Epoch 43/50\n",
      "375/375 [==============================] - 3s 7ms/step - loss: 0.0306 - acc: 0.9910 - val_loss: 1.3344 - val_acc: 0.8699\n",
      "Epoch 44/50\n",
      "375/375 [==============================] - 3s 7ms/step - loss: 0.0262 - acc: 0.9923 - val_loss: 1.5136 - val_acc: 0.8675\n",
      "Epoch 45/50\n",
      "375/375 [==============================] - 3s 7ms/step - loss: 0.0324 - acc: 0.9904 - val_loss: 1.2839 - val_acc: 0.8679\n",
      "Epoch 46/50\n",
      "375/375 [==============================] - 3s 7ms/step - loss: 0.0283 - acc: 0.9915 - val_loss: 1.4847 - val_acc: 0.8669\n",
      "Epoch 47/50\n",
      "375/375 [==============================] - 3s 7ms/step - loss: 0.0354 - acc: 0.9903 - val_loss: 1.1386 - val_acc: 0.8651\n",
      "Epoch 48/50\n",
      "375/375 [==============================] - 3s 7ms/step - loss: 0.0248 - acc: 0.9926 - val_loss: 1.5062 - val_acc: 0.8638\n",
      "Epoch 49/50\n",
      "375/375 [==============================] - 3s 7ms/step - loss: 0.0285 - acc: 0.9922 - val_loss: 1.4150 - val_acc: 0.8671\n",
      "Epoch 50/50\n",
      "375/375 [==============================] - 3s 7ms/step - loss: 0.0263 - acc: 0.9928 - val_loss: 1.5130 - val_acc: 0.8708\n"
     ]
    }
   ],
   "source": [
    "# 학습\n",
    "history1_3 = cnn3.fit([x_image_train], y_train, epochs = 50, batch_size = 128, validation_split = 0.2)"
   ]
  },
  {
   "cell_type": "code",
   "execution_count": 22,
   "id": "d5640c8b",
   "metadata": {},
   "outputs": [
    {
     "data": {
      "image/png": "[encoded data removed]",
      "text/plain": [
       "<Figure size 432x288 with 1 Axes>"
      ]
     },
     "metadata": {
      "needs_background": "light"
     },
     "output_type": "display_data"
    }
   ],
   "source": [
    "# 그래프\n",
    "graph(history1_3)"
   ]
  },
  {
   "cell_type": "code",
   "execution_count": 23,
   "id": "1b8c1c10",
   "metadata": {},
   "outputs": [
    {
     "name": "stdout",
     "output_type": "stream",
     "text": [
      "313/313 - 1s - loss: 1.4502 - acc: 0.8688\n"
     ]
    },
    {
     "data": {
      "text/plain": [
       "[1.450178861618042, 0.8687999844551086]"
      ]
     },
     "execution_count": 23,
     "metadata": {},
     "output_type": "execute_result"
    }
   ],
   "source": [
    "# evaluate\n",
    "cnn3.evaluate([x_image_test], y_test, verbose=2)"
   ]
  }
 ],
 "metadata": {
  "kernelspec": {
   "display_name": "Python 3 (ipykernel)",
   "language": "python",
   "name": "python3"
  },
  "language_info": {
   "codemirror_mode": {
    "name": "ipython",
    "version": 3
   },
   "file_extension": ".py",
   "mimetype": "text/x-python",
   "name": "python",
   "nbconvert_exporter": "python",
   "pygments_lexer": "ipython3",
   "version": "3.8.10"
  }
 },
 "nbformat": 4,
 "nbformat_minor": 5
}
